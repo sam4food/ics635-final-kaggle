{
 "cells": [
  {
   "cell_type": "markdown",
   "id": "cd18969d",
   "metadata": {},
   "source": [
    "# ResNet18 V2  [Train]\n",
    "<br>\n",
    "Code inspired by: https://www.kaggle.com/code/kadircandrisolu/efficientnet-b0-pytorch-inference-birdclef-25"
   ]
  },
  {
   "cell_type": "code",
   "execution_count": 1,
   "id": "22d342bf-a291-4530-831d-645f10c383ce",
   "metadata": {},
   "outputs": [],
   "source": [
    "!source activate cs336_data"
   ]
  },
  {
   "cell_type": "markdown",
   "id": "d92adab0",
   "metadata": {},
   "source": [
    "### Importing"
   ]
  },
  {
   "cell_type": "code",
   "execution_count": 2,
   "id": "bce13a28",
   "metadata": {},
   "outputs": [],
   "source": [
    "import os\n",
    "import logging\n",
    "import random\n",
    "import gc\n",
    "import time\n",
    "import cv2\n",
    "import math\n",
    "import warnings\n",
    "from pathlib import Path\n",
    "\n",
    "import numpy as np\n",
    "import pandas as pd\n",
    "from sklearn.model_selection import StratifiedKFold\n",
    "from sklearn.metrics import roc_auc_score, f1_score, multilabel_confusion_matrix\n",
    "import librosa\n",
    "\n",
    "import torch\n",
    "import torch.nn as nn\n",
    "import torch.nn.functional as F\n",
    "import torch.optim as optim\n",
    "from torch.optim import lr_scheduler\n",
    "from torch.utils.data import Dataset, DataLoader\n",
    "\n",
    "import matplotlib.pyplot as plt\n",
    "from tqdm.auto import tqdm\n",
    "\n",
    "warnings.filterwarnings(\"ignore\")\n",
    "logging.basicConfig(level=logging.ERROR)\n",
    "\n",
    "from common import DATA_KOA_PATH, SPECTROGRAM_PATH, MODEL_OUTPUT_PATH\n"
   ]
  },
  {
   "cell_type": "markdown",
   "id": "d47f1253",
   "metadata": {},
   "source": [
    "### Configuration"
   ]
  },
  {
   "cell_type": "code",
   "execution_count": 3,
   "id": "6cc1aedf",
   "metadata": {},
   "outputs": [],
   "source": [
    "class CFG:\n",
    "    seed = 42\n",
    "    debug = False\n",
    "    apex = False\n",
    "    print_freq = 100\n",
    "    num_workers = 2\n",
    "\n",
    "    OUTPUT_DIR = str(MODEL_OUTPUT_PATH / \"global_attention2\")\n",
    "\n",
    "    train_datadir = str(DATA_KOA_PATH/ \"train_audio\")\n",
    "    train_csv = str(DATA_KOA_PATH/ \"train.csv\")\n",
    "    taxonomy_csv = str(DATA_KOA_PATH/ \"taxonomy.csv\")\n",
    "    spectrogram_npy = str(SPECTROGRAM_PATH / \"birdclef2025_melspec_5sec_256_256.npy\")\n",
    "\n",
    "    in_channels = 1\n",
    "    model_name = \"resnet18\"  \n",
    "\n",
    "    LOAD_DATA = True\n",
    "    FS = 32000\n",
    "    TARGET_DURATION = 5.0\n",
    "    TARGET_SHAPE = (256, 256)\n",
    "\n",
    "    N_FFT = 1034\n",
    "    HOP_LENGTH = 64\n",
    "    N_MELS = 136\n",
    "    FMIN = 20\n",
    "    FMAX = 16000\n",
    "\n",
    "    device = \"cuda\" if torch.cuda.is_available() else \"cpu\"\n",
    "    epochs = 10\n",
    "    batch_size = 32\n",
    "    criterion = \"BCEWithLogitsLoss\"\n",
    "\n",
    "    n_fold = 5\n",
    "    selected_folds = [0, 1, 2, 3, 4]\n",
    "\n",
    "    optimizer = \"AdamW\"\n",
    "    lr = 5e-4\n",
    "    weight_decay = 1e-5\n",
    "\n",
    "    scheduler = \"CosineAnnealingLR\"\n",
    "    min_lr = 1e-6\n",
    "    T_max = epochs\n",
    "\n",
    "    aug_prob = 0.5\n",
    "\n",
    "    def update_debug_settings(self):\n",
    "        if self.debug:\n",
    "            self.epochs = 2\n",
    "            self.selected_folds = [0]\n",
    "cfg = CFG()\n"
   ]
  },
  {
   "cell_type": "markdown",
   "id": "28a2b733",
   "metadata": {},
   "source": [
    "### Utility"
   ]
  },
  {
   "cell_type": "code",
   "execution_count": 4,
   "id": "403b7b0e",
   "metadata": {},
   "outputs": [],
   "source": [
    "# Utility \n",
    "\n",
    "def set_seed(seed: int = 42):\n",
    "    random.seed(seed)\n",
    "    os.environ[\"PYTHONHASHSEED\"] = str(seed)\n",
    "    np.random.seed(seed)\n",
    "    torch.manual_seed(seed)\n",
    "    torch.cuda.manual_seed_all(seed)\n",
    "    torch.backends.cudnn.deterministic = True\n",
    "    torch.backends.cudnn.benchmark = False\n",
    "\n",
    "set_seed(cfg.seed)\n"
   ]
  },
  {
   "cell_type": "markdown",
   "id": "83ae3de9",
   "metadata": {},
   "source": [
    "### Preprocessing"
   ]
  },
  {
   "cell_type": "code",
   "execution_count": 5,
   "id": "3be5c9b9",
   "metadata": {},
   "outputs": [],
   "source": [
    "# Audio → Mel helpers \n",
    "\n",
    "def audio2melspec(audio_data: np.ndarray, cfg: CFG):\n",
    "    if np.isnan(audio_data).any():\n",
    "        mean_signal = np.nanmean(audio_data)\n",
    "        audio_data = np.nan_to_num(audio_data, nan=mean_signal)\n",
    "\n",
    "    mel = librosa.feature.melspectrogram(\n",
    "        y=audio_data,\n",
    "        sr=cfg.FS,\n",
    "        n_fft=cfg.N_FFT,\n",
    "        hop_length=cfg.HOP_LENGTH,\n",
    "        n_mels=cfg.N_MELS,\n",
    "        fmin=cfg.FMIN,\n",
    "        fmax=cfg.FMAX,\n",
    "        power=2.0,\n",
    "    )\n",
    "    mel_db = librosa.power_to_db(mel, ref=np.max)\n",
    "    mel_norm = (mel_db - mel_db.min()) / (mel_db.max() - mel_db.min() + 1e-8)\n",
    "    return mel_norm\n",
    "\n",
    "\n",
    "def process_audio_file(audio_path: str, cfg: CFG):  # → (H, W) float32\n",
    "    try:\n",
    "        audio_data, _ = librosa.load(audio_path, sr=cfg.FS)\n",
    "        target_samples = int(cfg.TARGET_DURATION * cfg.FS)\n",
    "\n",
    "        if len(audio_data) < target_samples:\n",
    "            n_copy = math.ceil(target_samples / len(audio_data))\n",
    "            audio_data = np.concatenate([audio_data] * n_copy)\n",
    "\n",
    "        start = max(0, len(audio_data) // 2 - target_samples // 2)\n",
    "        center_audio = audio_data[start : start + target_samples]\n",
    "        if len(center_audio) < target_samples:\n",
    "            center_audio = np.pad(center_audio, (0, target_samples - len(center_audio)))\n",
    "\n",
    "        mel = audio2melspec(center_audio, cfg)\n",
    "        if mel.shape != cfg.TARGET_SHAPE:\n",
    "            mel = cv2.resize(mel, cfg.TARGET_SHAPE, interpolation=cv2.INTER_LINEAR)\n",
    "        return mel.astype(np.float32)\n",
    "    except Exception as e:\n",
    "        print(f\"Error processing {audio_path}: {e}\")\n",
    "        return None"
   ]
  },
  {
   "cell_type": "markdown",
   "id": "affdb200",
   "metadata": {},
   "source": [
    "### Dataset Preprocessing and Data Augmentations"
   ]
  },
  {
   "cell_type": "code",
   "execution_count": 6,
   "id": "b7b39bf1",
   "metadata": {},
   "outputs": [],
   "source": [
    "# Dataset \n",
    "class BirdCLEFDataset(Dataset):\n",
    "    def __init__(self, df: pd.DataFrame, cfg: CFG, spectrograms=None, mode=\"train\"):\n",
    "        self.df = df.reset_index(drop=True)\n",
    "        self.cfg = cfg\n",
    "        self.mode = mode\n",
    "        self.spectrograms = spectrograms\n",
    "\n",
    "        tax = pd.read_csv(cfg.taxonomy_csv)\n",
    "        self.labels = tax[\"primary_label\"].tolist()\n",
    "        self.num_classes = len(self.labels)\n",
    "        self.label2idx = {l: i for i, l in enumerate(self.labels)}\n",
    "\n",
    "        if \"filepath\" not in self.df.columns:\n",
    "            self.df[\"filepath\"] = cfg.train_datadir + \"/\" + self.df.filename\n",
    "        if \"samplename\" not in self.df.columns:\n",
    "            self.df[\"samplename\"] = (\n",
    "                self.df.filename.map(lambda x: x.split(\"/\")[0] + \"-\" + x.split(\"/\")[-1].split(\".\")[0])\n",
    "            )\n",
    "        if cfg.debug:\n",
    "            self.df = self.df.sample(min(1000, len(self.df)), random_state=cfg.seed)\n",
    "\n",
    "    def __len__(self):\n",
    "        return len(self.df)\n",
    "\n",
    "    def __getitem__(self, idx):\n",
    "        row = self.df.iloc[idx]\n",
    "        samp = row.samplename\n",
    "        spec = None\n",
    "        if self.spectrograms is not None and samp in self.spectrograms:\n",
    "            spec = self.spectrograms[samp]\n",
    "        elif not self.cfg.LOAD_DATA:\n",
    "            spec = process_audio_file(row.filepath, self.cfg)\n",
    "        if spec is None:\n",
    "            spec = np.zeros(self.cfg.TARGET_SHAPE, dtype=np.float32)\n",
    "        spec = torch.tensor(spec).unsqueeze(0)  # (1, H, W)\n",
    "        if self.mode == \"train\" and random.random() < self.cfg.aug_prob:\n",
    "            spec = self.spec_augment(spec)\n",
    "        target = self.encode(row.primary_label)\n",
    "        return {\"melspec\": spec, \"target\": torch.tensor(target, dtype=torch.float32)}\n",
    "\n",
    "    def encode(self, label):\n",
    "        t = np.zeros(self.num_classes)\n",
    "        if label in self.label2idx:\n",
    "            t[self.label2idx[label]] = 1.0\n",
    "        return t\n",
    "\n",
    "    @staticmethod\n",
    "    def spec_augment(spec):  # simple time/freq masking\n",
    "        if random.random() < 0.5:\n",
    "            w = random.randint(5, 20)\n",
    "            start = random.randint(0, spec.shape[2] - w)\n",
    "            spec[0, :, start : start + w] = 0\n",
    "        if random.random() < 0.5:\n",
    "            h = random.randint(5, 20)\n",
    "            start = random.randint(0, spec.shape[1] - h)\n",
    "            spec[0, start : start + h, :] = 0\n",
    "        return spec\n",
    "\n",
    "\n",
    "def collate_fn(batch):\n",
    "    keys = batch[0].keys()\n",
    "    collated = {k: [] for k in keys}\n",
    "    for item in batch:\n",
    "        for k in keys:\n",
    "            collated[k].append(item[k])\n",
    "    collated[\"melspec\"] = torch.stack(collated[\"melspec\"])\n",
    "    collated[\"target\"] = torch.stack(collated[\"target\"])\n",
    "    return collated"
   ]
  },
  {
   "cell_type": "code",
   "execution_count": 7,
   "id": "a21d53f8",
   "metadata": {},
   "outputs": [],
   "source": [
    "class BirdCLEFDatasetFromNPY(Dataset):\n",
    "    def __init__(self, df, cfg, spectrograms=None, mode=\"train\"):\n",
    "        self.df = df\n",
    "        self.cfg = cfg\n",
    "        self.mode = mode\n",
    "\n",
    "        self.spectrograms = spectrograms\n",
    "        \n",
    "        taxonomy_df = pd.read_csv(self.cfg.taxonomy_csv)\n",
    "        self.species_ids = taxonomy_df['primary_label'].tolist()\n",
    "        self.num_classes = len(self.species_ids)\n",
    "        self.label_to_idx = {label: idx for idx, label in enumerate(self.species_ids)}\n",
    "\n",
    "        if 'filepath' not in self.df.columns:\n",
    "            self.df['filepath'] = self.cfg.train_datadir + '/' + self.df.filename\n",
    "        \n",
    "        if 'samplename' not in self.df.columns:\n",
    "            self.df['samplename'] = self.df.filename.map(lambda x: x.split('/')[0] + '-' + x.split('/')[-1].split('.')[0])\n",
    "\n",
    "        sample_names = set(self.df['samplename'])\n",
    "        if self.spectrograms:\n",
    "            found_samples = sum(1 for name in sample_names if name in self.spectrograms)\n",
    "            print(f\"Found {found_samples} matching spectrograms for {mode} dataset out of {len(self.df)} samples\")\n",
    "        \n",
    "        if cfg.debug:\n",
    "            self.df = self.df.sample(min(1000, len(self.df)), random_state=cfg.seed).reset_index(drop=True)\n",
    "    \n",
    "    def __len__(self):\n",
    "        return len(self.df)\n",
    "    \n",
    "    def __getitem__(self, idx):\n",
    "        row = self.df.iloc[idx]\n",
    "        samplename = row['samplename']\n",
    "        spec = None\n",
    "\n",
    "        if self.spectrograms and samplename in self.spectrograms:\n",
    "            spec = self.spectrograms[samplename]\n",
    "        elif not self.cfg.LOAD_DATA:\n",
    "            spec = process_audio_file(row['filepath'], self.cfg)\n",
    "\n",
    "        if spec is None:\n",
    "            spec = np.zeros(self.cfg.TARGET_SHAPE, dtype=np.float32)\n",
    "            if self.mode == \"train\":  # Only print warning during training\n",
    "                print(f\"Warning: Spectrogram for {samplename} not found and could not be generated\")\n",
    "\n",
    "        spec = torch.tensor(spec, dtype=torch.float32).unsqueeze(0)  # Add channel dimension\n",
    "\n",
    "        if self.mode == \"train\" and random.random() < self.cfg.aug_prob:\n",
    "            spec = self.apply_spec_augmentations(spec)\n",
    "        \n",
    "        target = self.encode_label(row['primary_label'])\n",
    "        \n",
    "        if 'secondary_labels' in row and row['secondary_labels'] not in [[''], None, np.nan]:\n",
    "            if isinstance(row['secondary_labels'], str):\n",
    "                secondary_labels = eval(row['secondary_labels'])\n",
    "            else:\n",
    "                secondary_labels = row['secondary_labels']\n",
    "            \n",
    "            for label in secondary_labels:\n",
    "                if label in self.label_to_idx:\n",
    "                    target[self.label_to_idx[label]] = 1.0\n",
    "        \n",
    "        return {\n",
    "            'melspec': spec, \n",
    "            'target': torch.tensor(target, dtype=torch.float32),\n",
    "            'filename': row['filename']\n",
    "        }\n",
    "    \n",
    "    def apply_spec_augmentations(self, spec):\n",
    "        \"\"\"Apply augmentations to spectrogram\"\"\"\n",
    "    \n",
    "        # Time masking (horizontal stripes)\n",
    "        if random.random() < 0.5:\n",
    "            num_masks = random.randint(1, 3)\n",
    "            for _ in range(num_masks):\n",
    "                width = random.randint(5, 20)\n",
    "                start = random.randint(0, spec.shape[2] - width)\n",
    "                spec[0, :, start:start+width] = 0\n",
    "        \n",
    "        # Frequency masking (vertical stripes)\n",
    "        if random.random() < 0.5:\n",
    "            num_masks = random.randint(1, 3)\n",
    "            for _ in range(num_masks):\n",
    "                height = random.randint(5, 20)\n",
    "                start = random.randint(0, spec.shape[1] - height)\n",
    "                spec[0, start:start+height, :] = 0\n",
    "        \n",
    "        # Random brightness/contrast\n",
    "        if random.random() < 0.5:\n",
    "            gain = random.uniform(0.8, 1.2)\n",
    "            bias = random.uniform(-0.1, 0.1)\n",
    "            spec = spec * gain + bias\n",
    "            spec = torch.clamp(spec, 0, 1) \n",
    "            \n",
    "        return spec\n",
    "    \n",
    "    def encode_label(self, label):\n",
    "        \"\"\"Encode label to one-hot vector\"\"\"\n",
    "        target = np.zeros(self.num_classes)\n",
    "        if label in self.label_to_idx:\n",
    "            target[self.label_to_idx[label]] = 1.0\n",
    "        return target"
   ]
  },
  {
   "cell_type": "markdown",
   "id": "86bc7e21",
   "metadata": {},
   "source": [
    "### Model"
   ]
  },
  {
   "cell_type": "code",
   "execution_count": 8,
   "id": "7e1079bb",
   "metadata": {},
   "outputs": [],
   "source": [
    "# ResNet 18\n",
    "class GlobalAttentionPool(nn.Module):\n",
    "    \"\"\"\n",
    "    Learnable attention pooling:\n",
    "    - Projects spatial features into keys and values\n",
    "    - Uses a single learnable query to attend over H×W tokens\n",
    "    \"\"\"\n",
    "    def __init__(self, input_dim, num_heads=8):\n",
    "        super().__init__()\n",
    "        self.attention = nn.MultiheadAttention(embed_dim=input_dim, num_heads=num_heads, batch_first=True)\n",
    "        self.query = nn.Parameter(torch.randn(1, 1, input_dim))  # learnable query vector\n",
    "        \n",
    "    def forward(self, x):\n",
    "        \"\"\"\n",
    "        Args:\n",
    "            x: Tensor of shape (batch_size, seq_len, input_dim)\n",
    "        Returns:\n",
    "            out: Tensor of shape (batch_size, input_dim)\n",
    "        \"\"\"\n",
    "        batch_size = x.size(0)\n",
    "\n",
    "        # Expand the query for the batch\n",
    "        query = self.query.expand(batch_size, -1, -1)  # [batch_size, 1, input_dim]\n",
    "\n",
    "        # Attention\n",
    "        attn_output, _ = self.attention(query=query, key=x, value=x)  # Output shape: (batch_size, 1, input_dim)\n",
    "\n",
    "        return attn_output.squeeze(1)  # Remove sequence dimension → shape (batch_size, input_dim)\n",
    "\n",
    "class BasicBlock(nn.Module):\n",
    "    expansion = 1\n",
    "\n",
    "    def __init__(self, in_planes, planes, stride=1):\n",
    "        super().__init__()\n",
    "        self.conv1 = nn.Conv2d(in_planes, planes, 3, stride, 1, bias=False)\n",
    "        self.bn1 = nn.BatchNorm2d(planes)\n",
    "        self.conv2 = nn.Conv2d(planes, planes, 3, 1, 1, bias=False)\n",
    "        self.bn2 = nn.BatchNorm2d(planes)\n",
    "        self.shortcut = nn.Sequential()\n",
    "        if stride != 1 or in_planes != planes:\n",
    "            self.shortcut = nn.Sequential(\n",
    "                nn.Conv2d(in_planes, planes, 1, stride, bias=False),\n",
    "                nn.BatchNorm2d(planes),\n",
    "            )\n",
    "\n",
    "    def forward(self, x):\n",
    "        out = F.relu(self.bn1(self.conv1(x)))\n",
    "        out = self.bn2(self.conv2(out))\n",
    "        out += self.shortcut(x)\n",
    "        return F.relu(out)\n",
    "\n",
    "\n",
    "class ResNet(nn.Module):\n",
    "    def __init__(self, block, num_blocks, num_classes, in_channels=1):\n",
    "        super().__init__()\n",
    "        self.in_planes = 64\n",
    "        self.conv1 = nn.Conv2d(in_channels, 64, 3, stride=1, padding=1, bias=False)  # 3×3 stem (no maxpool)\n",
    "        self.bn1 = nn.BatchNorm2d(64)\n",
    "        self.layer1 = self._make_layer(block, 64, num_blocks[0], stride=1)\n",
    "        self.layer2 = self._make_layer(block, 128, num_blocks[1], stride=2)\n",
    "        self.layer3 = self._make_layer(block, 256, num_blocks[2], stride=2)\n",
    "        self.layer4 = self._make_layer(block, 512, num_blocks[3], stride=2)\n",
    "        self.pool = nn.AdaptiveAvgPool2d((4, 4))  # Reduce to 4x4 features first (optional)\n",
    "        self.attention_pool = GlobalAttentionPool(input_dim=512 * block.expansion)\n",
    "        self.fc = nn.Linear(512 * block.expansion, num_classes)\n",
    "\n",
    "        self._init_weights()\n",
    "\n",
    "    def _make_layer(self, block, planes, num_blocks, stride):\n",
    "        strides = [stride] + [1] * (num_blocks - 1)\n",
    "        layers = []\n",
    "        for s in strides:\n",
    "            layers.append(block(self.in_planes, planes, s))\n",
    "            self.in_planes = planes * block.expansion\n",
    "        return nn.Sequential(*layers)\n",
    "\n",
    "    def _init_weights(self):\n",
    "        for m in self.modules():\n",
    "            if isinstance(m, nn.Conv2d):\n",
    "                nn.init.kaiming_normal_(m.weight, mode=\"fan_out\", nonlinearity=\"relu\")\n",
    "            elif isinstance(m, nn.BatchNorm2d):\n",
    "                nn.init.constant_(m.weight, 1)\n",
    "                nn.init.constant_(m.bias, 0)\n",
    "            elif isinstance(m, nn.Linear):\n",
    "                nn.init.kaiming_uniform_(m.weight, a=math.sqrt(5))\n",
    "                nn.init.constant_(m.bias, 0)\n",
    "\n",
    "    def forward(self, x):\n",
    "        out = self.bn1(self.conv1(x))\n",
    "        out = F.relu(out)\n",
    "        out = self.layer1(out)\n",
    "        out = self.layer2(out)\n",
    "        out = self.layer3(out)\n",
    "        out = self.layer4(out)\n",
    "\n",
    "        out = self.pool(out)              # (B, C, 4, 4)\n",
    "        out = out.flatten(2)              # (B, C, 16)\n",
    "        out = out.transpose(1, 2)          # (B, 16, C)\n",
    "        out = self.attention_pool(out)     # (B, C)\n",
    "        out = self.fc(out)                 # (B, num_classes)\n",
    "        return out\n",
    "\n",
    "\n",
    "\n",
    "def resnet18_spectrogram(num_classes: int, in_channels: int = 1):\n",
    "    return ResNet(BasicBlock, [2, 2, 2, 2], num_classes, in_channels)"
   ]
  },
  {
   "cell_type": "markdown",
   "id": "02a5ede8",
   "metadata": {},
   "source": [
    "### Training Utilities"
   ]
  },
  {
   "cell_type": "code",
   "execution_count": 9,
   "id": "50a6dbbd",
   "metadata": {},
   "outputs": [],
   "source": [
    "def get_optimizer(model, cfg):\n",
    "  \n",
    "    if cfg.optimizer == 'Adam':\n",
    "        optimizer = optim.Adam(\n",
    "            model.parameters(),\n",
    "            lr=cfg.lr,\n",
    "            weight_decay=cfg.weight_decay\n",
    "        )\n",
    "    elif cfg.optimizer == 'AdamW':\n",
    "        optimizer = optim.AdamW(\n",
    "            model.parameters(),\n",
    "            lr=cfg.lr,\n",
    "            weight_decay=cfg.weight_decay\n",
    "        )\n",
    "    elif cfg.optimizer == 'SGD':\n",
    "        optimizer = optim.SGD(\n",
    "            model.parameters(),\n",
    "            lr=cfg.lr,\n",
    "            momentum=0.9,\n",
    "            weight_decay=cfg.weight_decay\n",
    "        )\n",
    "    else:\n",
    "        raise NotImplementedError(f\"Optimizer {cfg.optimizer} not implemented\")\n",
    "        \n",
    "    return optimizer\n",
    "\n",
    "def get_scheduler(optimizer, cfg):\n",
    "   \n",
    "    if cfg.scheduler == 'CosineAnnealingLR':\n",
    "        scheduler = lr_scheduler.CosineAnnealingLR(\n",
    "            optimizer,\n",
    "            T_max=cfg.T_max,\n",
    "            eta_min=cfg.min_lr\n",
    "        )\n",
    "    elif cfg.scheduler == 'ReduceLROnPlateau':\n",
    "        scheduler = lr_scheduler.ReduceLROnPlateau(\n",
    "            optimizer,\n",
    "            mode='min',\n",
    "            factor=0.5,\n",
    "            patience=2,\n",
    "            min_lr=cfg.min_lr,\n",
    "            verbose=True\n",
    "        )\n",
    "    elif cfg.scheduler == 'StepLR':\n",
    "        scheduler = lr_scheduler.StepLR(\n",
    "            optimizer,\n",
    "            step_size=cfg.epochs // 3,\n",
    "            gamma=0.5\n",
    "        )\n",
    "    elif cfg.scheduler == 'OneCycleLR':\n",
    "        scheduler = None  \n",
    "    else:\n",
    "        scheduler = None\n",
    "        \n",
    "    return scheduler\n",
    "\n",
    "def get_criterion(cfg):\n",
    " \n",
    "    if cfg.criterion == 'BCEWithLogitsLoss':\n",
    "        criterion = nn.BCEWithLogitsLoss()\n",
    "    else:\n",
    "        raise NotImplementedError(f\"Criterion {cfg.criterion} not implemented\")\n",
    "        \n",
    "    return criterion"
   ]
  },
  {
   "cell_type": "markdown",
   "id": "36ee4196",
   "metadata": {},
   "source": [
    "### Training Loop and Training"
   ]
  },
  {
   "cell_type": "code",
   "execution_count": 10,
   "id": "c7265192",
   "metadata": {},
   "outputs": [],
   "source": [
    "def train_one_epoch(model, loader, optimizer, criterion, device, scheduler=None):\n",
    "    \n",
    "    model.train()\n",
    "    losses = []\n",
    "    all_targets = []\n",
    "    all_outputs = []\n",
    "    \n",
    "    pbar = tqdm(enumerate(loader), total=len(loader), desc=\"Training\")\n",
    "    \n",
    "    for step, batch in pbar:\n",
    "    \n",
    "        if isinstance(batch['melspec'], list):\n",
    "            batch_outputs = []\n",
    "            batch_losses = []\n",
    "            \n",
    "            for i in range(len(batch['melspec'])):\n",
    "                inputs = batch['melspec'][i].unsqueeze(0).to(device)\n",
    "                target = batch['target'][i].unsqueeze(0).to(device)\n",
    "                \n",
    "                optimizer.zero_grad()\n",
    "                output = model(inputs)\n",
    "                loss = criterion(output, target)\n",
    "                loss.backward()\n",
    "                \n",
    "                batch_outputs.append(output.detach().cpu())\n",
    "                batch_losses.append(loss.item())\n",
    "            \n",
    "            optimizer.step()\n",
    "            outputs = torch.cat(batch_outputs, dim=0).numpy()\n",
    "            loss = np.mean(batch_losses)\n",
    "            targets = batch['target'].numpy()\n",
    "            \n",
    "        else:\n",
    "            inputs = batch['melspec'].to(device)\n",
    "            targets = batch['target'].to(device)\n",
    "            \n",
    "            optimizer.zero_grad()\n",
    "            outputs = model(inputs)\n",
    "            \n",
    "            if isinstance(outputs, tuple):\n",
    "                outputs, loss = outputs  \n",
    "            else:\n",
    "                loss = criterion(outputs, targets)\n",
    "                \n",
    "            loss.backward()\n",
    "            optimizer.step()\n",
    "            \n",
    "            outputs = outputs.detach().cpu().numpy()\n",
    "            targets = targets.detach().cpu().numpy()\n",
    "        \n",
    "        if scheduler is not None and isinstance(scheduler, lr_scheduler.OneCycleLR):\n",
    "            scheduler.step()\n",
    "            \n",
    "        all_outputs.append(outputs)\n",
    "        all_targets.append(targets)\n",
    "        losses.append(loss if isinstance(loss, float) else loss.item())\n",
    "        pbar.set_postfix({\n",
    "            \"train_loss\": np.mean(losses[-10:]) if losses else 0,\n",
    "            \"lr\": optimizer.param_groups[0][\"lr\"],\n",
    "        })\n",
    "    \n",
    "    all_outputs = np.concatenate(all_outputs)\n",
    "    all_targets = np.concatenate(all_targets)\n",
    "    auc = calculate_auc(all_targets, all_outputs)\n",
    "    extra = calculate_extra_metrics(all_targets, all_outputs)\n",
    "    avg_loss = np.mean(losses)\n",
    "\n",
    "\n",
    "\n",
    "    \n",
    "    return avg_loss, auc, extra\n",
    "\n",
    "def validate(model, loader, criterion, device):\n",
    "   \n",
    "    model.eval()\n",
    "    losses = []\n",
    "    all_targets = []\n",
    "    all_outputs = []\n",
    "    \n",
    "    with torch.no_grad():\n",
    "        for batch in tqdm(loader, desc=\"Validation\"):\n",
    "            if isinstance(batch['melspec'], list):\n",
    "                batch_outputs = []\n",
    "                batch_losses = []\n",
    "                \n",
    "                for i in range(len(batch['melspec'])):\n",
    "                    inputs = batch['melspec'][i].unsqueeze(0).to(device)\n",
    "                    target = batch['target'][i].unsqueeze(0).to(device)\n",
    "                    \n",
    "                    output = model(inputs)\n",
    "                    loss = criterion(output, target)\n",
    "                    \n",
    "                    batch_outputs.append(output.detach().cpu())\n",
    "                    batch_losses.append(loss.item())\n",
    "                \n",
    "                outputs = torch.cat(batch_outputs, dim=0).numpy()\n",
    "                loss = np.mean(batch_losses)\n",
    "                targets = batch['target'].numpy()\n",
    "                \n",
    "            else:\n",
    "                inputs = batch['melspec'].to(device)\n",
    "                targets = batch['target'].to(device)\n",
    "                \n",
    "                outputs = model(inputs)\n",
    "                loss = criterion(outputs, targets)\n",
    "                \n",
    "                outputs = outputs.detach().cpu().numpy()\n",
    "                targets = targets.detach().cpu().numpy()\n",
    "            \n",
    "            all_outputs.append(outputs)\n",
    "            all_targets.append(targets)\n",
    "            losses.append(loss if isinstance(loss, float) else loss.item())\n",
    "    \n",
    "    all_outputs = np.concatenate(all_outputs)\n",
    "    all_targets = np.concatenate(all_targets)\n",
    "    \n",
    "    auc = calculate_auc(all_targets, all_outputs)\n",
    "    avg_loss = np.mean(losses)\n",
    "    extra = calculate_extra_metrics(all_targets, all_outputs)\n",
    "\n",
    "    \n",
    "    return avg_loss, auc, extra\n",
    "\n",
    "def calculate_auc(targets, outputs):\n",
    "  \n",
    "    num_classes = targets.shape[1]\n",
    "    aucs = []\n",
    "    \n",
    "    probs = 1 / (1 + np.exp(-outputs))\n",
    "    \n",
    "    for i in range(num_classes):\n",
    "        \n",
    "        if np.sum(targets[:, i]) > 0:\n",
    "            class_auc = roc_auc_score(targets[:, i], probs[:, i])\n",
    "            aucs.append(class_auc)\n",
    "    \n",
    "    return np.mean(aucs) if aucs else 0.0\n",
    "\n",
    "\n",
    "def calculate_extra_metrics(targets, logits, thresh=0.09):\n",
    "    \"\"\"\n",
    "    Compute macro-averaged F1, per-label accuracy and a multilabel\n",
    "    confusion matrix given (N, C) targets and logits.\n",
    "    \"\"\"\n",
    "    probs = 1 / (1 + np.exp(-logits))\n",
    "    preds = (probs >= thresh).astype(int)\n",
    "\n",
    "    macro_f1 = f1_score(targets, preds, average=\"macro\", zero_division=0)\n",
    "    micro_f1 = f1_score(targets, preds, average=\"micro\", zero_division=0)\n",
    "    correct = (preds == targets).astype(int)\n",
    "    label_acc = correct.mean(axis=0)          # vector length C\n",
    "    mean_label_acc = float(label_acc.mean())  # single number for logging\n",
    "\n",
    "    conf_mat = multilabel_confusion_matrix(targets, preds)\n",
    "\n",
    "    return {\n",
    "        \"macro_f1\":       float(macro_f1),\n",
    "        \"micro_f1\":       float(micro_f1),\n",
    "        \"label_acc_mean\": mean_label_acc,\n",
    "        \"label_acc_vec\":  label_acc,   # keep full vector for later analysis\n",
    "        \"conf_matrix\":    conf_mat,    # Tensor/ndarray\n",
    "    }\n"
   ]
  },
  {
   "cell_type": "code",
   "execution_count": 11,
   "id": "dfddbb84",
   "metadata": {},
   "outputs": [],
   "source": [
    "def run_training(df, cfg):\n",
    "    \"\"\"Training function that can either use pre-computed spectrograms or generate them on-the-fly\"\"\"\n",
    "\n",
    "    taxonomy_df = pd.read_csv(cfg.taxonomy_csv)\n",
    "    species_ids = taxonomy_df['primary_label'].tolist()\n",
    "    cfg.num_classes = len(species_ids)\n",
    "    out_dir = Path(cfg.OUTPUT_DIR)\n",
    "    out_dir.mkdir(parents=True, exist_ok=True)\n",
    "\n",
    "    if cfg.debug:\n",
    "        cfg.update_debug_settings()\n",
    "\n",
    "    spectrograms = None\n",
    "    if cfg.LOAD_DATA:\n",
    "        print(\"Loading pre-computed mel spectrograms from NPY file...\")\n",
    "        try:\n",
    "            spectrograms = np.load(cfg.spectrogram_npy, allow_pickle=True).item()\n",
    "            print(f\"Loaded {len(spectrograms)} pre-computed mel spectrograms\")\n",
    "        except Exception as e:\n",
    "            print(f\"Error loading pre-computed spectrograms: {e}\")\n",
    "            print(\"Will generate spectrograms on-the-fly instead.\")\n",
    "            cfg.LOAD_DATA = False\n",
    "    \n",
    "    if not cfg.LOAD_DATA:\n",
    "        print(\"Will generate spectrograms on-the-fly during training.\")\n",
    "        if 'filepath' not in df.columns:\n",
    "            df['filepath'] = cfg.train_datadir + '/' + df.filename\n",
    "        if 'samplename' not in df.columns:\n",
    "            df['samplename'] = df.filename.map(lambda x: x.split('/')[0] + '-' + x.split('/')[-1].split('.')[0])\n",
    "        \n",
    "    skf = StratifiedKFold(n_splits=cfg.n_fold, shuffle=True, random_state=cfg.seed)\n",
    "    \n",
    "    best_scores = []\n",
    "\n",
    "    \n",
    "    for fold, (train_idx, val_idx) in enumerate(skf.split(df, df['primary_label'])):\n",
    "        if fold not in cfg.selected_folds:\n",
    "            continue\n",
    "        metrics_log = [] \n",
    "            \n",
    "        print(f'\\n{\"=\"*30} Fold {fold} {\"=\"*30}')\n",
    "        train_df = df.iloc[train_idx].reset_index(drop=True)\n",
    "        val_df = df.iloc[val_idx].reset_index(drop=True)\n",
    "        \n",
    "        print(f'Training set: {len(train_df)} samples')\n",
    "        print(f'Validation set: {len(val_df)} samples')\n",
    "        \n",
    "        train_dataset = BirdCLEFDatasetFromNPY(train_df, cfg, spectrograms=spectrograms, mode='train')\n",
    "        val_dataset = BirdCLEFDatasetFromNPY(val_df, cfg, spectrograms=spectrograms, mode='valid')\n",
    "        \n",
    "        train_loader = DataLoader(\n",
    "            train_dataset, \n",
    "            batch_size=cfg.batch_size, \n",
    "            shuffle=True, \n",
    "            num_workers=cfg.num_workers,\n",
    "            pin_memory=True,\n",
    "            collate_fn=collate_fn,\n",
    "            drop_last=True\n",
    "        )\n",
    "        \n",
    "        val_loader = DataLoader(\n",
    "            val_dataset, \n",
    "            batch_size=cfg.batch_size, \n",
    "            shuffle=False, \n",
    "            num_workers=cfg.num_workers,\n",
    "            pin_memory=True,\n",
    "            collate_fn=collate_fn\n",
    "        )\n",
    "        \n",
    "        model = resnet18_spectrogram(num_classes=cfg.num_classes, in_channels=cfg.in_channels).to(cfg.device)\n",
    "\n",
    "\n",
    "        optimizer = get_optimizer(model, cfg)\n",
    "        criterion = get_criterion(cfg)\n",
    "        \n",
    "        if cfg.scheduler == 'OneCycleLR':\n",
    "            scheduler = lr_scheduler.OneCycleLR(\n",
    "                optimizer,\n",
    "                max_lr=cfg.lr,\n",
    "                steps_per_epoch=len(train_loader),\n",
    "                epochs=cfg.epochs,\n",
    "                pct_start=0.1\n",
    "            )\n",
    "        else:\n",
    "            scheduler = get_scheduler(optimizer, cfg)\n",
    "        \n",
    "        best_auc = 0\n",
    "        best_epoch = 0\n",
    "        \n",
    "        for epoch in range(cfg.epochs):\n",
    "            print(f\"\\nEpoch {epoch+1}/{cfg.epochs}\")\n",
    "            \n",
    "            train_loss, train_auc, train_extra = train_one_epoch(\n",
    "                model, \n",
    "                train_loader, \n",
    "                optimizer, \n",
    "                criterion, \n",
    "                cfg.device,\n",
    "                scheduler if isinstance(scheduler, lr_scheduler.OneCycleLR) else None\n",
    "            )\n",
    "            \n",
    "            val_loss, val_auc, val_extra = validate(model, val_loader, criterion, cfg.device)\n",
    "\n",
    "\n",
    "            if scheduler is not None and not isinstance(scheduler, lr_scheduler.OneCycleLR):\n",
    "                if isinstance(scheduler, lr_scheduler.ReduceLROnPlateau):\n",
    "                    scheduler.step(val_loss)\n",
    "                else:\n",
    "                    scheduler.step()\n",
    "\n",
    "            print(\n",
    "                f\"[Epoch {epoch+1}] \"\n",
    "                f\"Train: loss {train_loss:.4f} | \"\n",
    "                f\"AUC {train_auc:.4f} | \"\n",
    "                f\"Macro-F1 {train_extra['macro_f1']:.4f} | \"\n",
    "                f\"Micro-F1 {train_extra['micro_f1']:.4f} | \"\n",
    "                f\"L-Acc {train_extra['label_acc_mean']:.4f}   ||   \"\n",
    "                f\"Val: loss {val_loss:.4f} | \"\n",
    "                f\"AUC {val_auc:.4f} | \"\n",
    "                f\"Macro-F1 {val_extra['macro_f1']:.4f} | \"\n",
    "                f\"Micro-F1 {val_extra['micro_f1']:.4f} | \"\n",
    "                f\"L-Acc {val_extra['label_acc_mean']:.4f}\"\n",
    "            )\n",
    "\n",
    "            metrics_log.append({\n",
    "                \"fold\":         fold,\n",
    "                \"epoch\":        epoch + 1,\n",
    "\n",
    "                \"train_loss\":   train_loss,\n",
    "                \"train_auc\":    train_auc,\n",
    "                \"train_macro_f1\":   train_extra[\"macro_f1\"],\n",
    "                \"train_micro_f1\":   train_extra[\"micro_f1\"],\n",
    "                \"train_lacc\":   train_extra[\"label_acc_mean\"],\n",
    "\n",
    "                \"val_loss\":     val_loss,\n",
    "                \"val_auc\":      val_auc,\n",
    "                \"val_macro_f1\":     val_extra[\"macro_f1\"],\n",
    "                \"val_micro_f1\":     val_extra[\"micro_f1\"],\n",
    "                \"val_lacc\":     val_extra[\"label_acc_mean\"],\n",
    "            })\n",
    "\n",
    "\n",
    "            \n",
    "            if val_auc > best_auc:\n",
    "                best_auc = val_auc\n",
    "                best_epoch = epoch + 1\n",
    "                print(f\"New best AUC: {best_auc:.4f} at epoch {best_epoch}\")\n",
    "                np.save(out_dir / f\"confmat_fold{fold}_best.npy\",val_extra[\"conf_matrix\"])\n",
    "                torch.save({\n",
    "                    'model_state_dict': model.state_dict(),\n",
    "                    'optimizer_state_dict': optimizer.state_dict(),\n",
    "                    'scheduler_state_dict': scheduler.state_dict() if scheduler else None,\n",
    "                    'epoch': epoch,\n",
    "                    'val_auc': val_auc,\n",
    "                    'train_auc': train_auc,\n",
    "                    'cfg': vars(cfg)\n",
    "                },  out_dir / f\"model_fold{fold}_best.pth\")\n",
    "       \n",
    "        pd.DataFrame(metrics_log).to_csv(\n",
    "            out_dir / f\"metrics_fold{fold}.csv\",\n",
    "            index=False\n",
    "        )\n",
    "\n",
    "        print(f\"Saved per-epoch metrics → metrics_fold{fold}.csv\")\n",
    "\n",
    "        \n",
    "        best_scores.append(best_auc)\n",
    "        print(f\"\\nBest AUC for fold {fold}: {best_auc:.4f} at epoch {best_epoch}\")\n",
    "        \n",
    "        # Clear memory\n",
    "        del model, optimizer, scheduler, train_loader, val_loader\n",
    "        torch.cuda.empty_cache()\n",
    "        gc.collect()\n",
    "    \n",
    "    print(\"\\n\" + \"=\"*60)\n",
    "    print(\"Cross-Validation Results:\")\n",
    "    for fold, score in enumerate(best_scores):\n",
    "        print(f\"Fold {cfg.selected_folds[fold]}: {score:.4f}\")\n",
    "    print(f\"Mean AUC: {np.mean(best_scores):.4f}\")\n",
    "    print(\"=\"*60)"
   ]
  },
  {
   "cell_type": "code",
   "execution_count": 12,
   "id": "7e5fdb9d",
   "metadata": {},
   "outputs": [
    {
     "name": "stdout",
     "output_type": "stream",
     "text": [
      "\n",
      "Loading training data...\n",
      "\n",
      "Starting training...\n",
      "LOAD_DATA is set to True\n",
      "Using pre-computed mel spectrograms from NPY file\n",
      "Loading pre-computed mel spectrograms from NPY file...\n",
      "Loaded 28564 pre-computed mel spectrograms\n",
      "\n",
      "============================== Fold 0 ==============================\n",
      "Training set: 22851 samples\n",
      "Validation set: 5713 samples\n",
      "Found 22851 matching spectrograms for train dataset out of 22851 samples\n",
      "Found 5713 matching spectrograms for valid dataset out of 5713 samples\n",
      "\n",
      "Epoch 1/10\n"
     ]
    },
    {
     "data": {
      "application/vnd.jupyter.widget-view+json": {
       "model_id": "5aa0f67b4a0e47d3968dac3660b65db5",
       "version_major": 2,
       "version_minor": 0
      },
      "text/plain": [
       "Training:   0%|          | 0/714 [00:00<?, ?it/s]"
      ]
     },
     "metadata": {},
     "output_type": "display_data"
    },
    {
     "data": {
      "application/vnd.jupyter.widget-view+json": {
       "model_id": "44eb0c2bf6ac486eb529a98adb913551",
       "version_major": 2,
       "version_minor": 0
      },
      "text/plain": [
       "Validation:   0%|          | 0/179 [00:00<?, ?it/s]"
      ]
     },
     "metadata": {},
     "output_type": "display_data"
    },
    {
     "name": "stdout",
     "output_type": "stream",
     "text": [
      "[Epoch 1] Train: loss 0.0348 | AUC 0.4976 | Macro-F1 0.0059 | Micro-F1 0.0140 | L-Acc 0.9873   ||   Val: loss 0.0308 | AUC 0.6046 | Macro-F1 0.0030 | Micro-F1 0.0243 | L-Acc 0.9939\n",
      "New best AUC: 0.6046 at epoch 1\n",
      "\n",
      "Epoch 2/10\n"
     ]
    },
    {
     "data": {
      "application/vnd.jupyter.widget-view+json": {
       "model_id": "460efc3c59bb447ab8b1a8eb6410b2b2",
       "version_major": 2,
       "version_minor": 0
      },
      "text/plain": [
       "Training:   0%|          | 0/714 [00:00<?, ?it/s]"
      ]
     },
     "metadata": {},
     "output_type": "display_data"
    },
    {
     "data": {
      "application/vnd.jupyter.widget-view+json": {
       "model_id": "e5cfdc9a24e94e1aaf2e970109af03d5",
       "version_major": 2,
       "version_minor": 0
      },
      "text/plain": [
       "Validation:   0%|          | 0/179 [00:00<?, ?it/s]"
      ]
     },
     "metadata": {},
     "output_type": "display_data"
    },
    {
     "name": "stdout",
     "output_type": "stream",
     "text": [
      "[Epoch 2] Train: loss 0.0292 | AUC 0.6412 | Macro-F1 0.0254 | Micro-F1 0.0962 | L-Acc 0.9917   ||   Val: loss 0.0277 | AUC 0.7699 | Macro-F1 0.0424 | Micro-F1 0.1446 | L-Acc 0.9900\n",
      "New best AUC: 0.7699 at epoch 2\n",
      "\n",
      "Epoch 3/10\n"
     ]
    },
    {
     "data": {
      "application/vnd.jupyter.widget-view+json": {
       "model_id": "d1990a2fbca24858b47ccd00d6cdb675",
       "version_major": 2,
       "version_minor": 0
      },
      "text/plain": [
       "Training:   0%|          | 0/714 [00:00<?, ?it/s]"
      ]
     },
     "metadata": {},
     "output_type": "display_data"
    },
    {
     "data": {
      "application/vnd.jupyter.widget-view+json": {
       "model_id": "6590084c8b2242319cff65f89518e8d2",
       "version_major": 2,
       "version_minor": 0
      },
      "text/plain": [
       "Validation:   0%|          | 0/179 [00:00<?, ?it/s]"
      ]
     },
     "metadata": {},
     "output_type": "display_data"
    },
    {
     "name": "stdout",
     "output_type": "stream",
     "text": [
      "[Epoch 3] Train: loss 0.0255 | AUC 0.7920 | Macro-F1 0.0914 | Micro-F1 0.2188 | L-Acc 0.9897   ||   Val: loss 0.0254 | AUC 0.8452 | Macro-F1 0.0988 | Micro-F1 0.2365 | L-Acc 0.9897\n",
      "New best AUC: 0.8452 at epoch 3\n",
      "\n",
      "Epoch 4/10\n"
     ]
    },
    {
     "data": {
      "application/vnd.jupyter.widget-view+json": {
       "model_id": "0502db08d7154ad782384fd364ce9607",
       "version_major": 2,
       "version_minor": 0
      },
      "text/plain": [
       "Training:   0%|          | 0/714 [00:00<?, ?it/s]"
      ]
     },
     "metadata": {},
     "output_type": "display_data"
    },
    {
     "data": {
      "application/vnd.jupyter.widget-view+json": {
       "model_id": "999648ec99814ac0b360f4538ea855cf",
       "version_major": 2,
       "version_minor": 0
      },
      "text/plain": [
       "Validation:   0%|          | 0/179 [00:00<?, ?it/s]"
      ]
     },
     "metadata": {},
     "output_type": "display_data"
    },
    {
     "name": "stdout",
     "output_type": "stream",
     "text": [
      "[Epoch 4] Train: loss 0.0230 | AUC 0.8579 | Macro-F1 0.1453 | Micro-F1 0.2844 | L-Acc 0.9898   ||   Val: loss 0.0222 | AUC 0.8771 | Macro-F1 0.1643 | Micro-F1 0.3254 | L-Acc 0.9911\n",
      "New best AUC: 0.8771 at epoch 4\n",
      "\n",
      "Epoch 5/10\n"
     ]
    },
    {
     "data": {
      "application/vnd.jupyter.widget-view+json": {
       "model_id": "5c0a613c749f49ffb945a98d6566540d",
       "version_major": 2,
       "version_minor": 0
      },
      "text/plain": [
       "Training:   0%|          | 0/714 [00:00<?, ?it/s]"
      ]
     },
     "metadata": {},
     "output_type": "display_data"
    },
    {
     "data": {
      "application/vnd.jupyter.widget-view+json": {
       "model_id": "3942b3f7bf06465aa54ad3e778a28ae9",
       "version_major": 2,
       "version_minor": 0
      },
      "text/plain": [
       "Validation:   0%|          | 0/179 [00:00<?, ?it/s]"
      ]
     },
     "metadata": {},
     "output_type": "display_data"
    },
    {
     "name": "stdout",
     "output_type": "stream",
     "text": [
      "[Epoch 5] Train: loss 0.0210 | AUC 0.9003 | Macro-F1 0.1927 | Micro-F1 0.3314 | L-Acc 0.9902   ||   Val: loss 0.0213 | AUC 0.8969 | Macro-F1 0.1993 | Micro-F1 0.3469 | L-Acc 0.9909\n",
      "New best AUC: 0.8969 at epoch 5\n",
      "\n",
      "Epoch 6/10\n"
     ]
    },
    {
     "data": {
      "application/vnd.jupyter.widget-view+json": {
       "model_id": "5f494149ca5f488287d644dc2b0ad822",
       "version_major": 2,
       "version_minor": 0
      },
      "text/plain": [
       "Training:   0%|          | 0/714 [00:00<?, ?it/s]"
      ]
     },
     "metadata": {},
     "output_type": "display_data"
    },
    {
     "data": {
      "application/vnd.jupyter.widget-view+json": {
       "model_id": "5620e8bed9934841b77ee251c45ca01b",
       "version_major": 2,
       "version_minor": 0
      },
      "text/plain": [
       "Validation:   0%|          | 0/179 [00:00<?, ?it/s]"
      ]
     },
     "metadata": {},
     "output_type": "display_data"
    },
    {
     "name": "stdout",
     "output_type": "stream",
     "text": [
      "[Epoch 6] Train: loss 0.0194 | AUC 0.9234 | Macro-F1 0.2471 | Micro-F1 0.3715 | L-Acc 0.9907   ||   Val: loss 0.0200 | AUC 0.9089 | Macro-F1 0.2270 | Micro-F1 0.3478 | L-Acc 0.9893\n",
      "New best AUC: 0.9089 at epoch 6\n",
      "\n",
      "Epoch 7/10\n"
     ]
    },
    {
     "data": {
      "application/vnd.jupyter.widget-view+json": {
       "model_id": "ab88ae2849af42638b6af67455888734",
       "version_major": 2,
       "version_minor": 0
      },
      "text/plain": [
       "Training:   0%|          | 0/714 [00:00<?, ?it/s]"
      ]
     },
     "metadata": {},
     "output_type": "display_data"
    },
    {
     "data": {
      "application/vnd.jupyter.widget-view+json": {
       "model_id": "99282bae2d4f4387a879944fd4927b0d",
       "version_major": 2,
       "version_minor": 0
      },
      "text/plain": [
       "Validation:   0%|          | 0/179 [00:00<?, ?it/s]"
      ]
     },
     "metadata": {},
     "output_type": "display_data"
    },
    {
     "name": "stdout",
     "output_type": "stream",
     "text": [
      "[Epoch 7] Train: loss 0.0180 | AUC 0.9404 | Macro-F1 0.3012 | Micro-F1 0.4045 | L-Acc 0.9911   ||   Val: loss 0.0191 | AUC 0.9149 | Macro-F1 0.2817 | Micro-F1 0.4196 | L-Acc 0.9922\n",
      "New best AUC: 0.9149 at epoch 7\n",
      "\n",
      "Epoch 8/10\n"
     ]
    },
    {
     "data": {
      "application/vnd.jupyter.widget-view+json": {
       "model_id": "a2617b6a261f4b68b154b539dc3f659e",
       "version_major": 2,
       "version_minor": 0
      },
      "text/plain": [
       "Training:   0%|          | 0/714 [00:00<?, ?it/s]"
      ]
     },
     "metadata": {},
     "output_type": "display_data"
    },
    {
     "data": {
      "application/vnd.jupyter.widget-view+json": {
       "model_id": "aec6c438fc34456bb0ad8a6d568f8f8b",
       "version_major": 2,
       "version_minor": 0
      },
      "text/plain": [
       "Validation:   0%|          | 0/179 [00:00<?, ?it/s]"
      ]
     },
     "metadata": {},
     "output_type": "display_data"
    },
    {
     "name": "stdout",
     "output_type": "stream",
     "text": [
      "[Epoch 8] Train: loss 0.0168 | AUC 0.9505 | Macro-F1 0.3455 | Micro-F1 0.4340 | L-Acc 0.9916   ||   Val: loss 0.0182 | AUC 0.9184 | Macro-F1 0.2849 | Micro-F1 0.4268 | L-Acc 0.9919\n",
      "New best AUC: 0.9184 at epoch 8\n",
      "\n",
      "Epoch 9/10\n"
     ]
    },
    {
     "data": {
      "application/vnd.jupyter.widget-view+json": {
       "model_id": "5edda3e0a6494479b99cf45e1c5909b8",
       "version_major": 2,
       "version_minor": 0
      },
      "text/plain": [
       "Training:   0%|          | 0/714 [00:00<?, ?it/s]"
      ]
     },
     "metadata": {},
     "output_type": "display_data"
    },
    {
     "data": {
      "application/vnd.jupyter.widget-view+json": {
       "model_id": "f249628f67c5405abe44ee7682d0ac00",
       "version_major": 2,
       "version_minor": 0
      },
      "text/plain": [
       "Validation:   0%|          | 0/179 [00:00<?, ?it/s]"
      ]
     },
     "metadata": {},
     "output_type": "display_data"
    },
    {
     "name": "stdout",
     "output_type": "stream",
     "text": [
      "[Epoch 9] Train: loss 0.0158 | AUC 0.9576 | Macro-F1 0.3877 | Micro-F1 0.4551 | L-Acc 0.9919   ||   Val: loss 0.0179 | AUC 0.9210 | Macro-F1 0.3045 | Micro-F1 0.4359 | L-Acc 0.9920\n",
      "New best AUC: 0.9210 at epoch 9\n",
      "\n",
      "Epoch 10/10\n"
     ]
    },
    {
     "data": {
      "application/vnd.jupyter.widget-view+json": {
       "model_id": "c4d57f37aea045e99a0ad1c6804eef34",
       "version_major": 2,
       "version_minor": 0
      },
      "text/plain": [
       "Training:   0%|          | 0/714 [00:00<?, ?it/s]"
      ]
     },
     "metadata": {},
     "output_type": "display_data"
    },
    {
     "data": {
      "application/vnd.jupyter.widget-view+json": {
       "model_id": "c8f4100119d34b388b482587361145ec",
       "version_major": 2,
       "version_minor": 0
      },
      "text/plain": [
       "Validation:   0%|          | 0/179 [00:00<?, ?it/s]"
      ]
     },
     "metadata": {},
     "output_type": "display_data"
    },
    {
     "name": "stdout",
     "output_type": "stream",
     "text": [
      "[Epoch 10] Train: loss 0.0151 | AUC 0.9625 | Macro-F1 0.4165 | Micro-F1 0.4718 | L-Acc 0.9922   ||   Val: loss 0.0176 | AUC 0.9229 | Macro-F1 0.3069 | Micro-F1 0.4183 | L-Acc 0.9911\n",
      "New best AUC: 0.9229 at epoch 10\n",
      "Saved per-epoch metrics → metrics_fold0.csv\n",
      "\n",
      "Best AUC for fold 0: 0.9229 at epoch 10\n",
      "\n",
      "============================== Fold 1 ==============================\n",
      "Training set: 22851 samples\n",
      "Validation set: 5713 samples\n",
      "Found 22851 matching spectrograms for train dataset out of 22851 samples\n",
      "Found 5713 matching spectrograms for valid dataset out of 5713 samples\n",
      "\n",
      "Epoch 1/10\n"
     ]
    },
    {
     "data": {
      "application/vnd.jupyter.widget-view+json": {
       "model_id": "8d3600b9ec5e40c198c72fe3e2eb9869",
       "version_major": 2,
       "version_minor": 0
      },
      "text/plain": [
       "Training:   0%|          | 0/714 [00:00<?, ?it/s]"
      ]
     },
     "metadata": {},
     "output_type": "display_data"
    },
    {
     "data": {
      "application/vnd.jupyter.widget-view+json": {
       "model_id": "8d96f7e37eaa406d8d601b08cc428c98",
       "version_major": 2,
       "version_minor": 0
      },
      "text/plain": [
       "Validation:   0%|          | 0/179 [00:00<?, ?it/s]"
      ]
     },
     "metadata": {},
     "output_type": "display_data"
    },
    {
     "name": "stdout",
     "output_type": "stream",
     "text": [
      "[Epoch 1] Train: loss 0.0350 | AUC 0.4849 | Macro-F1 0.0051 | Micro-F1 0.0102 | L-Acc 0.9874   ||   Val: loss 0.0311 | AUC 0.5750 | Macro-F1 0.0002 | Micro-F1 0.0051 | L-Acc 0.9940\n",
      "New best AUC: 0.5750 at epoch 1\n",
      "\n",
      "Epoch 2/10\n"
     ]
    },
    {
     "data": {
      "application/vnd.jupyter.widget-view+json": {
       "model_id": "41118c46a25b4e129b24dc5b6061e1b4",
       "version_major": 2,
       "version_minor": 0
      },
      "text/plain": [
       "Training:   0%|          | 0/714 [00:00<?, ?it/s]"
      ]
     },
     "metadata": {},
     "output_type": "display_data"
    },
    {
     "data": {
      "application/vnd.jupyter.widget-view+json": {
       "model_id": "576a62eac9c146a28a966639c3d992b4",
       "version_major": 2,
       "version_minor": 0
      },
      "text/plain": [
       "Validation:   0%|          | 0/179 [00:00<?, ?it/s]"
      ]
     },
     "metadata": {},
     "output_type": "display_data"
    },
    {
     "name": "stdout",
     "output_type": "stream",
     "text": [
      "[Epoch 2] Train: loss 0.0305 | AUC 0.5594 | Macro-F1 0.0055 | Micro-F1 0.0309 | L-Acc 0.9935   ||   Val: loss 0.0359 | AUC 0.5532 | Macro-F1 0.0026 | Micro-F1 0.0350 | L-Acc 0.9875\n",
      "\n",
      "Epoch 3/10\n"
     ]
    },
    {
     "data": {
      "application/vnd.jupyter.widget-view+json": {
       "model_id": "fdc5fee183fc4c6e913edc0999a36e37",
       "version_major": 2,
       "version_minor": 0
      },
      "text/plain": [
       "Training:   0%|          | 0/714 [00:00<?, ?it/s]"
      ]
     },
     "metadata": {},
     "output_type": "display_data"
    },
    {
     "data": {
      "application/vnd.jupyter.widget-view+json": {
       "model_id": "16b5904f268b460a9e25ccf5daf30ff9",
       "version_major": 2,
       "version_minor": 0
      },
      "text/plain": [
       "Validation:   0%|          | 0/179 [00:00<?, ?it/s]"
      ]
     },
     "metadata": {},
     "output_type": "display_data"
    },
    {
     "name": "stdout",
     "output_type": "stream",
     "text": [
      "[Epoch 3] Train: loss 0.0284 | AUC 0.6965 | Macro-F1 0.0367 | Micro-F1 0.1251 | L-Acc 0.9913   ||   Val: loss 0.0273 | AUC 0.7929 | Macro-F1 0.0428 | Micro-F1 0.1596 | L-Acc 0.9928\n",
      "New best AUC: 0.7929 at epoch 3\n",
      "\n",
      "Epoch 4/10\n"
     ]
    },
    {
     "data": {
      "application/vnd.jupyter.widget-view+json": {
       "model_id": "44ea9adee1dd414593eb0b4ccc12ed3b",
       "version_major": 2,
       "version_minor": 0
      },
      "text/plain": [
       "Training:   0%|          | 0/714 [00:00<?, ?it/s]"
      ]
     },
     "metadata": {},
     "output_type": "display_data"
    },
    {
     "data": {
      "application/vnd.jupyter.widget-view+json": {
       "model_id": "f297585fd7f6422492dd12b61ca0fabf",
       "version_major": 2,
       "version_minor": 0
      },
      "text/plain": [
       "Validation:   0%|          | 0/179 [00:00<?, ?it/s]"
      ]
     },
     "metadata": {},
     "output_type": "display_data"
    },
    {
     "name": "stdout",
     "output_type": "stream",
     "text": [
      "[Epoch 4] Train: loss 0.0258 | AUC 0.7942 | Macro-F1 0.0813 | Micro-F1 0.2098 | L-Acc 0.9898   ||   Val: loss 0.0254 | AUC 0.8352 | Macro-F1 0.1075 | Micro-F1 0.2189 | L-Acc 0.9889\n",
      "New best AUC: 0.8352 at epoch 4\n",
      "\n",
      "Epoch 5/10\n"
     ]
    },
    {
     "data": {
      "application/vnd.jupyter.widget-view+json": {
       "model_id": "561016602a904159befe72ce891a3624",
       "version_major": 2,
       "version_minor": 0
      },
      "text/plain": [
       "Training:   0%|          | 0/714 [00:00<?, ?it/s]"
      ]
     },
     "metadata": {},
     "output_type": "display_data"
    },
    {
     "data": {
      "application/vnd.jupyter.widget-view+json": {
       "model_id": "a6693dfe42e54c5c8088fb0b8a7acea2",
       "version_major": 2,
       "version_minor": 0
      },
      "text/plain": [
       "Validation:   0%|          | 0/179 [00:00<?, ?it/s]"
      ]
     },
     "metadata": {},
     "output_type": "display_data"
    },
    {
     "name": "stdout",
     "output_type": "stream",
     "text": [
      "[Epoch 5] Train: loss 0.0239 | AUC 0.8488 | Macro-F1 0.1340 | Micro-F1 0.2671 | L-Acc 0.9898   ||   Val: loss 0.0291 | AUC 0.7802 | Macro-F1 0.1001 | Micro-F1 0.1943 | L-Acc 0.9896\n",
      "\n",
      "Epoch 6/10\n"
     ]
    },
    {
     "data": {
      "application/vnd.jupyter.widget-view+json": {
       "model_id": "76dc1f74c2d846eba497e3aa603924f3",
       "version_major": 2,
       "version_minor": 0
      },
      "text/plain": [
       "Training:   0%|          | 0/714 [00:00<?, ?it/s]"
      ]
     },
     "metadata": {},
     "output_type": "display_data"
    },
    {
     "data": {
      "application/vnd.jupyter.widget-view+json": {
       "model_id": "68614c88256649d08a581313b61f052d",
       "version_major": 2,
       "version_minor": 0
      },
      "text/plain": [
       "Validation:   0%|          | 0/179 [00:00<?, ?it/s]"
      ]
     },
     "metadata": {},
     "output_type": "display_data"
    },
    {
     "name": "stdout",
     "output_type": "stream",
     "text": [
      "[Epoch 6] Train: loss 0.0221 | AUC 0.8898 | Macro-F1 0.1746 | Micro-F1 0.3077 | L-Acc 0.9899   ||   Val: loss 0.0216 | AUC 0.8957 | Macro-F1 0.1966 | Micro-F1 0.3092 | L-Acc 0.9892\n",
      "New best AUC: 0.8957 at epoch 6\n",
      "\n",
      "Epoch 7/10\n"
     ]
    },
    {
     "data": {
      "application/vnd.jupyter.widget-view+json": {
       "model_id": "07e3477ac3ed497b851f538f511d9774",
       "version_major": 2,
       "version_minor": 0
      },
      "text/plain": [
       "Training:   0%|          | 0/714 [00:00<?, ?it/s]"
      ]
     },
     "metadata": {},
     "output_type": "display_data"
    },
    {
     "data": {
      "application/vnd.jupyter.widget-view+json": {
       "model_id": "0ecd8e9188c74a82836d96ee7ea6c171",
       "version_major": 2,
       "version_minor": 0
      },
      "text/plain": [
       "Validation:   0%|          | 0/179 [00:00<?, ?it/s]"
      ]
     },
     "metadata": {},
     "output_type": "display_data"
    },
    {
     "name": "stderr",
     "output_type": "stream",
     "text": [
      "Exception ignored in: <function _MultiProcessingDataLoaderIter.__del__ at 0x14dc2ff56340>\n",
      "Traceback (most recent call last):\n",
      "  File \"/home/yujin31/.local/lib/python3.11/site-packages/torch/utils/data/dataloader.py\", line 1479, in __del__\n",
      "    self._shutdown_workers()\n",
      "  File \"/home/yujin31/.local/lib/python3.11/site-packages/torch/utils/data/dataloader.py\", line 1462, in _shutdown_workers\n",
      "    if w.is_alive():\n",
      "       ^^^^^^^^^^^^\n",
      "  File \"/opt/apps/software/lang/Anaconda3/2024.02-1/lib/python3.11/multiprocessing/process.py\", line 160, in is_alive\n",
      "    assert self._parent_pid == os.getpid(), 'can only test a child process'\n",
      "           ^^^^^^^^^^^^^^^^^^^^^^^^^^^^^^^\n",
      "AssertionError: can only test a child process\n",
      "Exception ignored in: <function _MultiProcessingDataLoaderIter.__del__ at 0x14dc2ff56340>\n",
      "Traceback (most recent call last):\n",
      "  File \"/home/yujin31/.local/lib/python3.11/site-packages/torch/utils/data/dataloader.py\", line 1479, in __del__\n",
      "    self._shutdown_workers()\n",
      "  File \"/home/yujin31/.local/lib/python3.11/site-packages/torch/utils/data/dataloader.py\", line 1462, in _shutdown_workers\n",
      "    if w.is_alive():\n",
      "       ^^^^^^^^^^^^\n",
      "  File \"/opt/apps/software/lang/Anaconda3/2024.02-1/lib/python3.11/multiprocessing/process.py\", line 160, in is_alive\n",
      "    assert self._parent_pid == os.getpid(), 'can only test a child process'\n",
      "           ^^^^^^^^^^^^^^^^^^^^^^^^^^^^^^^\n",
      "AssertionError: can only test a child process\n",
      "Exception ignored in: <function _MultiProcessingDataLoaderIter.__del__ at 0x14dc2ff56340>\n",
      "Traceback (most recent call last):\n",
      "  File \"/home/yujin31/.local/lib/python3.11/site-packages/torch/utils/data/dataloader.py\", line 1479, in __del__\n",
      "    self._shutdown_workers()\n",
      "  File \"/home/yujin31/.local/lib/python3.11/site-packages/torch/utils/data/dataloader.py\", line 1462, in _shutdown_workers\n",
      "    if w.is_alive():\n",
      "       ^^^^^^^^^^^^\n",
      "  File \"/opt/apps/software/lang/Anaconda3/2024.02-1/lib/python3.11/multiprocessing/process.py\", line 160, in is_alive\n",
      "    assert self._parent_pid == os.getpid(), 'can only test a child process'\n",
      "           ^^^^^^^^^^^^^^^^^^^^^^^^^^^^^^^\n",
      "AssertionError: can only test a child process\n",
      "Exception ignored in: <function _MultiProcessingDataLoaderIter.__del__ at 0x14dc2ff56340>\n",
      "Traceback (most recent call last):\n",
      "  File \"/home/yujin31/.local/lib/python3.11/site-packages/torch/utils/data/dataloader.py\", line 1479, in __del__\n",
      "    self._shutdown_workers()\n",
      "  File \"/home/yujin31/.local/lib/python3.11/site-packages/torch/utils/data/dataloader.py\", line 1462, in _shutdown_workers\n",
      "    if w.is_alive():\n",
      "       ^^^^^^^^^^^^\n",
      "  File \"/opt/apps/software/lang/Anaconda3/2024.02-1/lib/python3.11/multiprocessing/process.py\", line 160, in is_alive\n",
      "    assert self._parent_pid == os.getpid(), 'can only test a child process'\n",
      "           ^^^^^^^^^^^^^^^^^^^^^^^^^^^^^^^\n",
      "AssertionError: can only test a child process\n"
     ]
    },
    {
     "data": {
      "application/vnd.code.notebook.stdout": [
       "[Epoch 7] Train: loss 0.0205 | AUC 0.9156 | Macro-F1 0.2209 | Micro-F1 0.3444 | L-Acc 0.9902   ||   Val: loss 0.0203 | AUC 0.9107 | Macro-F1 0.2270 | Micro-F1 0.3501 | L-Acc 0.9902\n",
       "New best AUC: 0.9107 at epoch 7\n",
       "\n",
       "Epoch 8/10\n"
      ]
     },
     "metadata": {},
     "output_type": "display_data"
    },
    {
     "data": {
      "application/vnd.jupyter.widget-view+json": {
       "model_id": "f30a051b44db4edc92757b5876cc846c",
       "version_major": 2,
       "version_minor": 0
      },
      "text/plain": [
       "Training:   0%|          | 0/714 [00:00<?, ?it/s]"
      ]
     },
     "metadata": {},
     "output_type": "display_data"
    },
    {
     "name": "stdout",
     "output_type": "stream",
     "text": []
    },
    {
     "data": {
      "application/vnd.code.notebook.stdout": [
       "[Epoch 8] Train: loss 0.0192 | AUC 0.9310 | Macro-F1 0.2593 | Micro-F1 0.3765 | L-Acc 0.9906   ||   Val: loss 0.0198 | AUC 0.9151 | Macro-F1 0.2519 | Micro-F1 0.3614 | L-Acc 0.9902\n",
       "New best AUC: 0.9151 at epoch 8\n",
       "\n",
       "Epoch 9/10\n"
      ]
     },
     "metadata": {},
     "output_type": "display_data"
    },
    {
     "data": {
      "application/vnd.jupyter.widget-view+json": {
       "model_id": "21464bc3733d470ab83a11e8fcd37d4a",
       "version_major": 2,
       "version_minor": 0
      },
      "text/plain": [
       "Training:   0%|          | 0/714 [00:00<?, ?it/s]"
      ]
     },
     "metadata": {},
     "output_type": "display_data"
    },
    {
     "name": "stdout",
     "output_type": "stream",
     "text": []
    },
    {
     "data": {
      "application/vnd.code.notebook.stderr": [
       "Exception ignored in: <function _MultiProcessingDataLoaderIter.__del__ at 0x14dc2ff56340>\n",
       "Traceback (most recent call last):\n",
       "  File \"/home/yujin31/.local/lib/python3.11/site-packages/torch/utils/data/dataloader.py\", line 1479, in __del__\n",
       "    self._shutdown_workers()\n",
       "  File \"/home/yujin31/.local/lib/python3.11/site-packages/torch/utils/data/dataloader.py\", line 1462, in _shutdown_workers\n",
       "    if w.is_alive():\n",
       "       ^^^^^^^^^^^^\n",
       "  File \"/opt/apps/software/lang/Anaconda3/2024.02-1/lib/python3.11/multiprocessing/process.py\", line 160, in is_alive\n",
       "    assert self._parent_pid == os.getpid(), 'can only test a child process'\n",
       "           ^^^^^^^^^^^^^^^^^^^^^^^^^^^^^^^\n",
       "AssertionError: can only test a child process\n",
       "Exception ignored in: <function _MultiProcessingDataLoaderIter.__del__ at 0x14dc2ff56340>\n",
       "Traceback (most recent call last):\n",
       "  File \"/home/yujin31/.local/lib/python3.11/site-packages/torch/utils/data/dataloader.py\", line 1479, in __del__\n",
       "    self._shutdown_workers()\n",
       "  File \"/home/yujin31/.local/lib/python3.11/site-packages/torch/utils/data/dataloader.py\", line 1462, in _shutdown_workers\n",
       "    if w.is_alive():\n",
       "       ^^^^^^^^^^^^\n",
       "  File \"/opt/apps/software/lang/Anaconda3/2024.02-1/lib/python3.11/multiprocessing/process.py\", line 160, in is_alive\n",
       "    assert self._parent_pid == os.getpid(), 'can only test a child process'\n",
       "           ^^^^^^^^^^^^^^^^^^^^^^^^^^^^^^^\n",
       "AssertionError: can only test a child process\n"
      ]
     },
     "metadata": {},
     "output_type": "display_data"
    },
    {
     "data": {
      "application/vnd.code.notebook.stdout": [
       "[Epoch 9] Train: loss 0.0181 | AUC 0.9411 | Macro-F1 0.2956 | Micro-F1 0.4002 | L-Acc 0.9910   ||   Val: loss 0.0187 | AUC 0.9238 | Macro-F1 0.2549 | Micro-F1 0.3707 | L-Acc 0.9899\n",
       "New best AUC: 0.9238 at epoch 9\n",
       "\n",
       "Epoch 10/10\n"
      ]
     },
     "metadata": {},
     "output_type": "display_data"
    },
    {
     "name": "stdout",
     "output_type": "stream",
     "text": []
    },
    {
     "data": {
      "application/vnd.jupyter.widget-view+json": {
       "model_id": "a85536d5135948949c2a4fb5823a2e11",
       "version_major": 2,
       "version_minor": 0
      },
      "text/plain": [
       "Validation:   0%|          | 0/179 [00:00<?, ?it/s]"
      ]
     },
     "metadata": {},
     "output_type": "display_data"
    },
    {
     "data": {
      "application/vnd.code.notebook.stdout": [
       "[Epoch 10] Train: loss 0.0175 | AUC 0.9467 | Macro-F1 0.3208 | Micro-F1 0.4164 | L-Acc 0.9912   ||   Val: loss 0.0184 | AUC 0.9244 | Macro-F1 0.2748 | Micro-F1 0.3905 | L-Acc 0.9907\n",
       "New best AUC: 0.9244 at epoch 10\n",
       "Saved per-epoch metrics → metrics_fold1.csv\n",
       "\n",
       "Best AUC for fold 1: 0.9244 at epoch 10\n",
       "\n",
       "============================== Fold 2 ==============================\n",
       "Training set: 22851 samples\n",
       "Validation set: 5713 samples\n",
       "Found 22851 matching spectrograms for train dataset out of 22851 samples\n",
       "Found 5713 matching spectrograms for valid dataset out of 5713 samples\n",
       "\n",
       "Epoch 1/10\n"
      ]
     },
     "metadata": {},
     "output_type": "display_data"
    },
    {
     "name": "stdout",
     "output_type": "stream",
     "text": []
    },
    {
     "data": {
      "application/vnd.jupyter.widget-view+json": {
       "model_id": "bf36e3b4c95f4d649b2dab4bf5dd8943",
       "version_major": 2,
       "version_minor": 0
      },
      "text/plain": [
       "Validation:   0%|          | 0/179 [00:00<?, ?it/s]"
      ]
     },
     "metadata": {},
     "output_type": "display_data"
    },
    {
     "data": {
      "application/vnd.code.notebook.stdout": [
       "[Epoch 1] Train: loss 0.0347 | AUC 0.5315 | Macro-F1 0.0081 | Micro-F1 0.0220 | L-Acc 0.9865   ||   Val: loss 0.0297 | AUC 0.6800 | Macro-F1 0.0070 | Micro-F1 0.0634 | L-Acc 0.9928\n",
       "New best AUC: 0.6800 at epoch 1\n",
       "\n",
       "Epoch 2/10\n"
      ]
     },
     "metadata": {},
     "output_type": "display_data"
    },
    {
     "name": "stdout",
     "output_type": "stream",
     "text": []
    },
    {
     "data": {
      "application/vnd.jupyter.widget-view+json": {
       "model_id": "20a6cc7a25ee4afcbbf23114539880f0",
       "version_major": 2,
       "version_minor": 0
      },
      "text/plain": [
       "Validation:   0%|          | 0/179 [00:00<?, ?it/s]"
      ]
     },
     "metadata": {},
     "output_type": "display_data"
    },
    {
     "data": {
      "application/vnd.code.notebook.stdout": [
       "[Epoch 2] Train: loss 0.0281 | AUC 0.6984 | Macro-F1 0.0444 | Micro-F1 0.1448 | L-Acc 0.9910   ||   Val: loss 0.0258 | AUC 0.8135 | Macro-F1 0.0766 | Micro-F1 0.2354 | L-Acc 0.9920\n",
       "New best AUC: 0.8135 at epoch 2\n",
       "\n",
       "Epoch 3/10\n"
      ]
     },
     "metadata": {},
     "output_type": "display_data"
    },
    {
     "name": "stdout",
     "output_type": "stream",
     "text": []
    },
    {
     "data": {
      "application/vnd.jupyter.widget-view+json": {
       "model_id": "dd128400e51a47fb92e20fd90f489b63",
       "version_major": 2,
       "version_minor": 0
      },
      "text/plain": [
       "Validation:   0%|          | 0/179 [00:00<?, ?it/s]"
      ]
     },
     "metadata": {},
     "output_type": "display_data"
    },
    {
     "data": {
      "application/vnd.code.notebook.stdout": [
       "[Epoch 3] Train: loss 0.0247 | AUC 0.8165 | Macro-F1 0.1088 | Micro-F1 0.2446 | L-Acc 0.9898   ||   Val: loss 0.0237 | AUC 0.8528 | Macro-F1 0.1399 | Micro-F1 0.2772 | L-Acc 0.9901\n",
       "New best AUC: 0.8528 at epoch 3\n",
       "\n",
       "Epoch 4/10\n"
      ]
     },
     "metadata": {},
     "output_type": "display_data"
    },
    {
     "name": "stdout",
     "output_type": "stream",
     "text": []
    },
    {
     "data": {
      "application/vnd.jupyter.widget-view+json": {
       "model_id": "f04c5198763740fe9e42bbd9f4b9869c",
       "version_major": 2,
       "version_minor": 0
      },
      "text/plain": [
       "Validation:   0%|          | 0/179 [00:00<?, ?it/s]"
      ]
     },
     "metadata": {},
     "output_type": "display_data"
    },
    {
     "data": {
      "application/vnd.code.notebook.stdout": [
       "[Epoch 4] Train: loss 0.0224 | AUC 0.8700 | Macro-F1 0.1625 | Micro-F1 0.3021 | L-Acc 0.9900   ||   Val: loss 0.0218 | AUC 0.8836 | Macro-F1 0.1841 | Micro-F1 0.3398 | L-Acc 0.9916\n",
       "New best AUC: 0.8836 at epoch 4\n",
       "\n",
       "Epoch 5/10\n"
      ]
     },
     "metadata": {},
     "output_type": "display_data"
    },
    {
     "name": "stdout",
     "output_type": "stream",
     "text": []
    },
    {
     "name": "stdout",
     "output_type": "stream",
     "text": []
    },
    {
     "data": {
      "application/vnd.code.notebook.stdout": [
       "[Epoch 5] Train: loss 0.0205 | AUC 0.9085 | Macro-F1 0.2090 | Micro-F1 0.3476 | L-Acc 0.9904   ||   Val: loss 0.0208 | AUC 0.9010 | Macro-F1 0.2355 | Micro-F1 0.3902 | L-Acc 0.9927\n",
       "New best AUC: 0.9010 at epoch 5\n",
       "\n",
       "Epoch 6/10\n"
      ]
     },
     "metadata": {},
     "output_type": "display_data"
    },
    {
     "data": {
      "application/vnd.jupyter.widget-view+json": {
       "model_id": "efda774754514296a311f5723e3b01d4",
       "version_major": 2,
       "version_minor": 0
      },
      "text/plain": [
       "Training:   0%|          | 0/714 [00:00<?, ?it/s]"
      ]
     },
     "metadata": {},
     "output_type": "display_data"
    },
    {
     "name": "stdout",
     "output_type": "stream",
     "text": []
    },
    {
     "data": {
      "application/vnd.code.notebook.stdout": [
       "[Epoch 6] Train: loss 0.0189 | AUC 0.9302 | Macro-F1 0.2543 | Micro-F1 0.3819 | L-Acc 0.9908   ||   Val: loss 0.0194 | AUC 0.9121 | Macro-F1 0.2678 | Micro-F1 0.4131 | L-Acc 0.9924\n",
       "New best AUC: 0.9121 at epoch 6\n",
       "\n",
       "Epoch 7/10\n"
      ]
     },
     "metadata": {},
     "output_type": "display_data"
    },
    {
     "data": {
      "application/vnd.jupyter.widget-view+json": {
       "model_id": "8e3c64d271284321af3b5f3c5bc20b42",
       "version_major": 2,
       "version_minor": 0
      },
      "text/plain": [
       "Training:   0%|          | 0/714 [00:00<?, ?it/s]"
      ]
     },
     "metadata": {},
     "output_type": "display_data"
    },
    {
     "name": "stdout",
     "output_type": "stream",
     "text": []
    },
    {
     "name": "stdout",
     "output_type": "stream",
     "text": [
      "[Epoch 7] Train: loss 0.0175 | AUC 0.9453 | Macro-F1 0.3210 | Micro-F1 0.4165 | L-Acc 0.9913   ||   Val: loss 0.0187 | AUC 0.9170 | Macro-F1 0.2768 | Micro-F1 0.4241 | L-Acc 0.9924\n",
      "New best AUC: 0.9170 at epoch 7\n",
      "\n",
      "Epoch 8/10\n"
     ]
    },
    {
     "data": {
      "application/vnd.jupyter.widget-view+json": {
       "model_id": "0410508688a04be8a062f0de73aeb29e",
       "version_major": 2,
       "version_minor": 0
      },
      "text/plain": [
       "Training:   0%|          | 0/714 [00:00<?, ?it/s]"
      ]
     },
     "metadata": {},
     "output_type": "display_data"
    },
    {
     "data": {
      "application/vnd.jupyter.widget-view+json": {
       "model_id": "b5a6e9c92dc842ebac2938ca6309192b",
       "version_major": 2,
       "version_minor": 0
      },
      "text/plain": [
       "Validation:   0%|          | 0/179 [00:00<?, ?it/s]"
      ]
     },
     "metadata": {},
     "output_type": "display_data"
    },
    {
     "name": "stdout",
     "output_type": "stream",
     "text": [
      "[Epoch 8] Train: loss 0.0162 | AUC 0.9548 | Macro-F1 0.3682 | Micro-F1 0.4463 | L-Acc 0.9917   ||   Val: loss 0.0180 | AUC 0.9238 | Macro-F1 0.3094 | Micro-F1 0.4134 | L-Acc 0.9912\n",
      "New best AUC: 0.9238 at epoch 8\n",
      "\n",
      "Epoch 9/10\n"
     ]
    },
    {
     "data": {
      "application/vnd.jupyter.widget-view+json": {
       "model_id": "d5aa12265fe3449fab123f3749ea83d8",
       "version_major": 2,
       "version_minor": 0
      },
      "text/plain": [
       "Training:   0%|          | 0/714 [00:00<?, ?it/s]"
      ]
     },
     "metadata": {},
     "output_type": "display_data"
    },
    {
     "data": {
      "application/vnd.jupyter.widget-view+json": {
       "model_id": "b5ffdbc530f348a2940aa5689a9e42b4",
       "version_major": 2,
       "version_minor": 0
      },
      "text/plain": [
       "Validation:   0%|          | 0/179 [00:00<?, ?it/s]"
      ]
     },
     "metadata": {},
     "output_type": "display_data"
    },
    {
     "name": "stdout",
     "output_type": "stream",
     "text": [
      "[Epoch 9] Train: loss 0.0152 | AUC 0.9624 | Macro-F1 0.4202 | Micro-F1 0.4715 | L-Acc 0.9922   ||   Val: loss 0.0174 | AUC 0.9270 | Macro-F1 0.3292 | Micro-F1 0.4435 | L-Acc 0.9921\n",
      "New best AUC: 0.9270 at epoch 9\n",
      "\n",
      "Epoch 10/10\n"
     ]
    },
    {
     "data": {
      "application/vnd.jupyter.widget-view+json": {
       "model_id": "c2dc6a5fa6d14ce1b0bc9ea46e0d564c",
       "version_major": 2,
       "version_minor": 0
      },
      "text/plain": [
       "Training:   0%|          | 0/714 [00:00<?, ?it/s]"
      ]
     },
     "metadata": {},
     "output_type": "display_data"
    },
    {
     "data": {
      "application/vnd.jupyter.widget-view+json": {
       "model_id": "94e086918d5f41be9ed1bfa62630881e",
       "version_major": 2,
       "version_minor": 0
      },
      "text/plain": [
       "Validation:   0%|          | 0/179 [00:00<?, ?it/s]"
      ]
     },
     "metadata": {},
     "output_type": "display_data"
    },
    {
     "name": "stdout",
     "output_type": "stream",
     "text": [
      "[Epoch 10] Train: loss 0.0145 | AUC 0.9663 | Macro-F1 0.4450 | Micro-F1 0.4864 | L-Acc 0.9924   ||   Val: loss 0.0172 | AUC 0.9268 | Macro-F1 0.3231 | Micro-F1 0.4304 | L-Acc 0.9915\n",
      "Saved per-epoch metrics → metrics_fold2.csv\n",
      "\n",
      "Best AUC for fold 2: 0.9270 at epoch 9\n",
      "\n",
      "============================== Fold 3 ==============================\n",
      "Training set: 22851 samples\n",
      "Validation set: 5713 samples\n",
      "Found 22851 matching spectrograms for train dataset out of 22851 samples\n",
      "Found 5713 matching spectrograms for valid dataset out of 5713 samples\n",
      "\n",
      "Epoch 1/10\n"
     ]
    },
    {
     "data": {
      "application/vnd.jupyter.widget-view+json": {
       "model_id": "d398259440f74e14be6dae95aa526d32",
       "version_major": 2,
       "version_minor": 0
      },
      "text/plain": [
       "Training:   0%|          | 0/714 [00:00<?, ?it/s]"
      ]
     },
     "metadata": {},
     "output_type": "display_data"
    },
    {
     "data": {
      "application/vnd.jupyter.widget-view+json": {
       "model_id": "cec3eea99d5d460c9faa41ee6c0a3443",
       "version_major": 2,
       "version_minor": 0
      },
      "text/plain": [
       "Validation:   0%|          | 0/179 [00:00<?, ?it/s]"
      ]
     },
     "metadata": {},
     "output_type": "display_data"
    },
    {
     "name": "stdout",
     "output_type": "stream",
     "text": [
      "[Epoch 1] Train: loss 0.0346 | AUC 0.5125 | Macro-F1 0.0063 | Micro-F1 0.0166 | L-Acc 0.9873   ||   Val: loss 0.0312 | AUC 0.5848 | Macro-F1 0.0026 | Micro-F1 0.0190 | L-Acc 0.9935\n",
      "New best AUC: 0.5848 at epoch 1\n",
      "\n",
      "Epoch 2/10\n"
     ]
    },
    {
     "data": {
      "application/vnd.jupyter.widget-view+json": {
       "model_id": "a127f99556044f1a9363f391cbf7369b",
       "version_major": 2,
       "version_minor": 0
      },
      "text/plain": [
       "Training:   0%|          | 0/714 [00:00<?, ?it/s]"
      ]
     },
     "metadata": {},
     "output_type": "display_data"
    },
    {
     "data": {
      "application/vnd.jupyter.widget-view+json": {
       "model_id": "f25af8c32e474e49aff9ebc370bd9488",
       "version_major": 2,
       "version_minor": 0
      },
      "text/plain": [
       "Validation:   0%|          | 0/179 [00:00<?, ?it/s]"
      ]
     },
     "metadata": {},
     "output_type": "display_data"
    },
    {
     "name": "stdout",
     "output_type": "stream",
     "text": [
      "[Epoch 2] Train: loss 0.0290 | AUC 0.6600 | Macro-F1 0.0228 | Micro-F1 0.1040 | L-Acc 0.9914   ||   Val: loss 0.0286 | AUC 0.7525 | Macro-F1 0.0314 | Micro-F1 0.1278 | L-Acc 0.9906\n",
      "New best AUC: 0.7525 at epoch 2\n",
      "\n",
      "Epoch 3/10\n"
     ]
    },
    {
     "data": {
      "application/vnd.jupyter.widget-view+json": {
       "model_id": "a0ffb2da91fe44ebb84d420e39dd93d4",
       "version_major": 2,
       "version_minor": 0
      },
      "text/plain": [
       "Training:   0%|          | 0/714 [00:00<?, ?it/s]"
      ]
     },
     "metadata": {},
     "output_type": "display_data"
    },
    {
     "data": {
      "application/vnd.jupyter.widget-view+json": {
       "model_id": "1059fedca27d462e978aa7ba6f421f6a",
       "version_major": 2,
       "version_minor": 0
      },
      "text/plain": [
       "Validation:   0%|          | 0/179 [00:00<?, ?it/s]"
      ]
     },
     "metadata": {},
     "output_type": "display_data"
    },
    {
     "name": "stdout",
     "output_type": "stream",
     "text": [
      "[Epoch 3] Train: loss 0.0260 | AUC 0.7852 | Macro-F1 0.0810 | Micro-F1 0.2046 | L-Acc 0.9898   ||   Val: loss 0.0248 | AUC 0.8605 | Macro-F1 0.1150 | Micro-F1 0.2481 | L-Acc 0.9899\n",
      "New best AUC: 0.8605 at epoch 3\n",
      "\n",
      "Epoch 4/10\n"
     ]
    },
    {
     "data": {
      "application/vnd.jupyter.widget-view+json": {
       "model_id": "65cdfd6898264175aa587064dfcb4096",
       "version_major": 2,
       "version_minor": 0
      },
      "text/plain": [
       "Training:   0%|          | 0/714 [00:00<?, ?it/s]"
      ]
     },
     "metadata": {},
     "output_type": "display_data"
    },
    {
     "data": {
      "application/vnd.jupyter.widget-view+json": {
       "model_id": "7abbb27e95944650a32b749d98e63ef2",
       "version_major": 2,
       "version_minor": 0
      },
      "text/plain": [
       "Validation:   0%|          | 0/179 [00:00<?, ?it/s]"
      ]
     },
     "metadata": {},
     "output_type": "display_data"
    },
    {
     "name": "stdout",
     "output_type": "stream",
     "text": [
      "[Epoch 4] Train: loss 0.0236 | AUC 0.8446 | Macro-F1 0.1352 | Micro-F1 0.2720 | L-Acc 0.9898   ||   Val: loss 0.0239 | AUC 0.8664 | Macro-F1 0.1322 | Micro-F1 0.2507 | L-Acc 0.9872\n",
      "New best AUC: 0.8664 at epoch 4\n",
      "\n",
      "Epoch 5/10\n"
     ]
    },
    {
     "data": {
      "application/vnd.jupyter.widget-view+json": {
       "model_id": "73e3439065e2405f81f778192ce55afb",
       "version_major": 2,
       "version_minor": 0
      },
      "text/plain": [
       "Training:   0%|          | 0/714 [00:00<?, ?it/s]"
      ]
     },
     "metadata": {},
     "output_type": "display_data"
    },
    {
     "data": {
      "application/vnd.jupyter.widget-view+json": {
       "model_id": "7870e9ccdec1484ea10281dc82f4c0d8",
       "version_major": 2,
       "version_minor": 0
      },
      "text/plain": [
       "Validation:   0%|          | 0/179 [00:00<?, ?it/s]"
      ]
     },
     "metadata": {},
     "output_type": "display_data"
    },
    {
     "name": "stdout",
     "output_type": "stream",
     "text": [
      "[Epoch 5] Train: loss 0.0216 | AUC 0.8941 | Macro-F1 0.1786 | Micro-F1 0.3201 | L-Acc 0.9902   ||   Val: loss 0.0214 | AUC 0.8987 | Macro-F1 0.1894 | Micro-F1 0.3092 | L-Acc 0.9885\n",
      "New best AUC: 0.8987 at epoch 5\n",
      "\n",
      "Epoch 6/10\n"
     ]
    },
    {
     "data": {
      "application/vnd.jupyter.widget-view+json": {
       "model_id": "58fa3c7b4a1d4d7b9ee74c8c6ae1f33e",
       "version_major": 2,
       "version_minor": 0
      },
      "text/plain": [
       "Training:   0%|          | 0/714 [00:00<?, ?it/s]"
      ]
     },
     "metadata": {},
     "output_type": "display_data"
    },
    {
     "data": {
      "application/vnd.jupyter.widget-view+json": {
       "model_id": "4ace392ba70b430ca550051f6b1a8c8c",
       "version_major": 2,
       "version_minor": 0
      },
      "text/plain": [
       "Validation:   0%|          | 0/179 [00:00<?, ?it/s]"
      ]
     },
     "metadata": {},
     "output_type": "display_data"
    },
    {
     "name": "stdout",
     "output_type": "stream",
     "text": [
      "[Epoch 6] Train: loss 0.0200 | AUC 0.9157 | Macro-F1 0.2253 | Micro-F1 0.3589 | L-Acc 0.9906   ||   Val: loss 0.0223 | AUC 0.8939 | Macro-F1 0.2199 | Micro-F1 0.3723 | L-Acc 0.9923\n",
      "\n",
      "Epoch 7/10\n"
     ]
    },
    {
     "data": {
      "application/vnd.jupyter.widget-view+json": {
       "model_id": "0888b793a6ae4c18a45656e51e57bcb8",
       "version_major": 2,
       "version_minor": 0
      },
      "text/plain": [
       "Training:   0%|          | 0/714 [00:00<?, ?it/s]"
      ]
     },
     "metadata": {},
     "output_type": "display_data"
    },
    {
     "data": {
      "application/vnd.jupyter.widget-view+json": {
       "model_id": "a257cb191c1040eca3d6d38068871e96",
       "version_major": 2,
       "version_minor": 0
      },
      "text/plain": [
       "Validation:   0%|          | 0/179 [00:00<?, ?it/s]"
      ]
     },
     "metadata": {},
     "output_type": "display_data"
    },
    {
     "name": "stdout",
     "output_type": "stream",
     "text": [
      "[Epoch 7] Train: loss 0.0186 | AUC 0.9333 | Macro-F1 0.2794 | Micro-F1 0.3932 | L-Acc 0.9911   ||   Val: loss 0.0190 | AUC 0.9204 | Macro-F1 0.2838 | Micro-F1 0.3944 | L-Acc 0.9908\n",
      "New best AUC: 0.9204 at epoch 7\n",
      "\n",
      "Epoch 8/10\n"
     ]
    },
    {
     "data": {
      "application/vnd.jupyter.widget-view+json": {
       "model_id": "e12b3afb12f249dfafd378354dc2fbd6",
       "version_major": 2,
       "version_minor": 0
      },
      "text/plain": [
       "Training:   0%|          | 0/714 [00:00<?, ?it/s]"
      ]
     },
     "metadata": {},
     "output_type": "display_data"
    },
    {
     "data": {
      "application/vnd.jupyter.widget-view+json": {
       "model_id": "e383ec089fc14f7db7351a94c0d3a6f9",
       "version_major": 2,
       "version_minor": 0
      },
      "text/plain": [
       "Validation:   0%|          | 0/179 [00:00<?, ?it/s]"
      ]
     },
     "metadata": {},
     "output_type": "display_data"
    },
    {
     "name": "stdout",
     "output_type": "stream",
     "text": [
      "[Epoch 8] Train: loss 0.0173 | AUC 0.9448 | Macro-F1 0.3315 | Micro-F1 0.4239 | L-Acc 0.9915   ||   Val: loss 0.0186 | AUC 0.9228 | Macro-F1 0.3027 | Micro-F1 0.3876 | L-Acc 0.9901\n",
      "New best AUC: 0.9228 at epoch 8\n",
      "\n",
      "Epoch 9/10\n"
     ]
    },
    {
     "data": {
      "application/vnd.jupyter.widget-view+json": {
       "model_id": "a79d0c38ecad4fcd98b8bbc995f1e264",
       "version_major": 2,
       "version_minor": 0
      },
      "text/plain": [
       "Training:   0%|          | 0/714 [00:00<?, ?it/s]"
      ]
     },
     "metadata": {},
     "output_type": "display_data"
    },
    {
     "data": {
      "application/vnd.jupyter.widget-view+json": {
       "model_id": "abc0b4cf0f54457db790f7342a68a7e9",
       "version_major": 2,
       "version_minor": 0
      },
      "text/plain": [
       "Validation:   0%|          | 0/179 [00:00<?, ?it/s]"
      ]
     },
     "metadata": {},
     "output_type": "display_data"
    },
    {
     "name": "stdout",
     "output_type": "stream",
     "text": [
      "[Epoch 9] Train: loss 0.0163 | AUC 0.9534 | Macro-F1 0.3889 | Micro-F1 0.4425 | L-Acc 0.9917   ||   Val: loss 0.0182 | AUC 0.9223 | Macro-F1 0.3145 | Micro-F1 0.4142 | L-Acc 0.9911\n",
      "\n",
      "Epoch 10/10\n"
     ]
    },
    {
     "data": {
      "application/vnd.jupyter.widget-view+json": {
       "model_id": "62e54f71a6424091826e192b8782e702",
       "version_major": 2,
       "version_minor": 0
      },
      "text/plain": [
       "Training:   0%|          | 0/714 [00:00<?, ?it/s]"
      ]
     },
     "metadata": {},
     "output_type": "display_data"
    },
    {
     "data": {
      "application/vnd.jupyter.widget-view+json": {
       "model_id": "04b08f9725d44baeb4a389377cbbce37",
       "version_major": 2,
       "version_minor": 0
      },
      "text/plain": [
       "Validation:   0%|          | 0/179 [00:00<?, ?it/s]"
      ]
     },
     "metadata": {},
     "output_type": "display_data"
    },
    {
     "name": "stdout",
     "output_type": "stream",
     "text": [
      "[Epoch 10] Train: loss 0.0156 | AUC 0.9581 | Macro-F1 0.4120 | Micro-F1 0.4604 | L-Acc 0.9920   ||   Val: loss 0.0177 | AUC 0.9254 | Macro-F1 0.3386 | Micro-F1 0.4345 | L-Acc 0.9917\n",
      "New best AUC: 0.9254 at epoch 10\n",
      "Saved per-epoch metrics → metrics_fold3.csv\n",
      "\n",
      "Best AUC for fold 3: 0.9254 at epoch 10\n",
      "\n",
      "============================== Fold 4 ==============================\n",
      "Training set: 22852 samples\n",
      "Validation set: 5712 samples\n",
      "Found 22852 matching spectrograms for train dataset out of 22852 samples\n",
      "Found 5712 matching spectrograms for valid dataset out of 5712 samples\n",
      "\n",
      "Epoch 1/10\n"
     ]
    },
    {
     "data": {
      "application/vnd.jupyter.widget-view+json": {
       "model_id": "0d99a9127a354084a7aeb6d6a3035397",
       "version_major": 2,
       "version_minor": 0
      },
      "text/plain": [
       "Training:   0%|          | 0/714 [00:00<?, ?it/s]"
      ]
     },
     "metadata": {},
     "output_type": "display_data"
    },
    {
     "data": {
      "application/vnd.jupyter.widget-view+json": {
       "model_id": "8f86f55448e84907b992d6e1dfe8250b",
       "version_major": 2,
       "version_minor": 0
      },
      "text/plain": [
       "Validation:   0%|          | 0/179 [00:00<?, ?it/s]"
      ]
     },
     "metadata": {},
     "output_type": "display_data"
    },
    {
     "name": "stdout",
     "output_type": "stream",
     "text": [
      "[Epoch 1] Train: loss 0.0348 | AUC 0.5072 | Macro-F1 0.0060 | Micro-F1 0.0143 | L-Acc 0.9872   ||   Val: loss 0.0306 | AUC 0.6081 | Macro-F1 0.0008 | Micro-F1 0.0360 | L-Acc 0.9931\n",
      "New best AUC: 0.6081 at epoch 1\n",
      "\n",
      "Epoch 2/10\n"
     ]
    },
    {
     "data": {
      "application/vnd.jupyter.widget-view+json": {
       "model_id": "6cf8b9c6787145a2a47f2b5278d0c01e",
       "version_major": 2,
       "version_minor": 0
      },
      "text/plain": [
       "Training:   0%|          | 0/714 [00:00<?, ?it/s]"
      ]
     },
     "metadata": {},
     "output_type": "display_data"
    },
    {
     "data": {
      "application/vnd.jupyter.widget-view+json": {
       "model_id": "bd36876ebd234cda8a778b16c4dbcf90",
       "version_major": 2,
       "version_minor": 0
      },
      "text/plain": [
       "Validation:   0%|          | 0/179 [00:00<?, ?it/s]"
      ]
     },
     "metadata": {},
     "output_type": "display_data"
    },
    {
     "name": "stdout",
     "output_type": "stream",
     "text": [
      "[Epoch 2] Train: loss 0.0295 | AUC 0.6101 | Macro-F1 0.0200 | Micro-F1 0.0861 | L-Acc 0.9922   ||   Val: loss 0.0278 | AUC 0.7759 | Macro-F1 0.0314 | Micro-F1 0.1475 | L-Acc 0.9922\n",
      "New best AUC: 0.7759 at epoch 2\n",
      "\n",
      "Epoch 3/10\n"
     ]
    },
    {
     "data": {
      "application/vnd.jupyter.widget-view+json": {
       "model_id": "ee6dae29325a4894b6cda42f228fc2d4",
       "version_major": 2,
       "version_minor": 0
      },
      "text/plain": [
       "Training:   0%|          | 0/714 [00:00<?, ?it/s]"
      ]
     },
     "metadata": {},
     "output_type": "display_data"
    },
    {
     "data": {
      "application/vnd.jupyter.widget-view+json": {
       "model_id": "2b7a0965c36a430da5e68f88ca80813a",
       "version_major": 2,
       "version_minor": 0
      },
      "text/plain": [
       "Validation:   0%|          | 0/179 [00:00<?, ?it/s]"
      ]
     },
     "metadata": {},
     "output_type": "display_data"
    },
    {
     "name": "stdout",
     "output_type": "stream",
     "text": [
      "[Epoch 3] Train: loss 0.0266 | AUC 0.7684 | Macro-F1 0.0664 | Micro-F1 0.1870 | L-Acc 0.9901   ||   Val: loss 0.0262 | AUC 0.8337 | Macro-F1 0.0821 | Micro-F1 0.2087 | L-Acc 0.9896\n",
      "New best AUC: 0.8337 at epoch 3\n",
      "\n",
      "Epoch 4/10\n"
     ]
    },
    {
     "data": {
      "application/vnd.jupyter.widget-view+json": {
       "model_id": "37d74e623cf448a0a0379aeeee075b56",
       "version_major": 2,
       "version_minor": 0
      },
      "text/plain": [
       "Training:   0%|          | 0/714 [00:00<?, ?it/s]"
      ]
     },
     "metadata": {},
     "output_type": "display_data"
    },
    {
     "data": {
      "application/vnd.jupyter.widget-view+json": {
       "model_id": "9b5f9a3c52e1426fa956e4d094bcad0c",
       "version_major": 2,
       "version_minor": 0
      },
      "text/plain": [
       "Validation:   0%|          | 0/179 [00:00<?, ?it/s]"
      ]
     },
     "metadata": {},
     "output_type": "display_data"
    },
    {
     "name": "stdout",
     "output_type": "stream",
     "text": [
      "[Epoch 4] Train: loss 0.0242 | AUC 0.8375 | Macro-F1 0.1178 | Micro-F1 0.2566 | L-Acc 0.9898   ||   Val: loss 0.0236 | AUC 0.8861 | Macro-F1 0.1442 | Micro-F1 0.2517 | L-Acc 0.9870\n",
      "New best AUC: 0.8861 at epoch 4\n",
      "\n",
      "Epoch 5/10\n"
     ]
    },
    {
     "data": {
      "application/vnd.jupyter.widget-view+json": {
       "model_id": "1feef745364f407aa12e768c3ef1bf4d",
       "version_major": 2,
       "version_minor": 0
      },
      "text/plain": [
       "Training:   0%|          | 0/714 [00:00<?, ?it/s]"
      ]
     },
     "metadata": {},
     "output_type": "display_data"
    },
    {
     "data": {
      "application/vnd.jupyter.widget-view+json": {
       "model_id": "9fbdbfc61ca54a8cbec853bb2d02cad8",
       "version_major": 2,
       "version_minor": 0
      },
      "text/plain": [
       "Validation:   0%|          | 0/179 [00:00<?, ?it/s]"
      ]
     },
     "metadata": {},
     "output_type": "display_data"
    },
    {
     "name": "stdout",
     "output_type": "stream",
     "text": [
      "[Epoch 5] Train: loss 0.0222 | AUC 0.8835 | Macro-F1 0.1623 | Micro-F1 0.3040 | L-Acc 0.9900   ||   Val: loss 0.0221 | AUC 0.8998 | Macro-F1 0.1895 | Micro-F1 0.2887 | L-Acc 0.9881\n",
      "New best AUC: 0.8998 at epoch 5\n",
      "\n",
      "Epoch 6/10\n"
     ]
    },
    {
     "data": {
      "application/vnd.jupyter.widget-view+json": {
       "model_id": "635c8b6602a143298dee1cc783623827",
       "version_major": 2,
       "version_minor": 0
      },
      "text/plain": [
       "Training:   0%|          | 0/714 [00:00<?, ?it/s]"
      ]
     },
     "metadata": {},
     "output_type": "display_data"
    },
    {
     "data": {
      "application/vnd.jupyter.widget-view+json": {
       "model_id": "4c9e5e2892eb400794f5977ff531c7b2",
       "version_major": 2,
       "version_minor": 0
      },
      "text/plain": [
       "Validation:   0%|          | 0/179 [00:00<?, ?it/s]"
      ]
     },
     "metadata": {},
     "output_type": "display_data"
    },
    {
     "name": "stdout",
     "output_type": "stream",
     "text": [
      "[Epoch 6] Train: loss 0.0205 | AUC 0.9103 | Macro-F1 0.2164 | Micro-F1 0.3487 | L-Acc 0.9905   ||   Val: loss 0.0204 | AUC 0.9096 | Macro-F1 0.2238 | Micro-F1 0.3406 | L-Acc 0.9895\n",
      "New best AUC: 0.9096 at epoch 6\n",
      "\n",
      "Epoch 7/10\n"
     ]
    },
    {
     "data": {
      "application/vnd.jupyter.widget-view+json": {
       "model_id": "1645cc2653b04177810d0f2a74e1a2ea",
       "version_major": 2,
       "version_minor": 0
      },
      "text/plain": [
       "Training:   0%|          | 0/714 [00:00<?, ?it/s]"
      ]
     },
     "metadata": {},
     "output_type": "display_data"
    },
    {
     "data": {
      "application/vnd.jupyter.widget-view+json": {
       "model_id": "64ec4897082147c6bf4cb174a8458152",
       "version_major": 2,
       "version_minor": 0
      },
      "text/plain": [
       "Validation:   0%|          | 0/179 [00:00<?, ?it/s]"
      ]
     },
     "metadata": {},
     "output_type": "display_data"
    },
    {
     "name": "stdout",
     "output_type": "stream",
     "text": [
      "[Epoch 7] Train: loss 0.0191 | AUC 0.9292 | Macro-F1 0.2622 | Micro-F1 0.3807 | L-Acc 0.9909   ||   Val: loss 0.0202 | AUC 0.9110 | Macro-F1 0.2423 | Micro-F1 0.3435 | L-Acc 0.9892\n",
      "New best AUC: 0.9110 at epoch 7\n",
      "\n",
      "Epoch 8/10\n"
     ]
    },
    {
     "data": {
      "application/vnd.jupyter.widget-view+json": {
       "model_id": "cd4417639f40453d8fa44c6f8c28e6c6",
       "version_major": 2,
       "version_minor": 0
      },
      "text/plain": [
       "Training:   0%|          | 0/714 [00:00<?, ?it/s]"
      ]
     },
     "metadata": {},
     "output_type": "display_data"
    },
    {
     "data": {
      "application/vnd.jupyter.widget-view+json": {
       "model_id": "d99ad7ffad0b4bc2ae7d21ae89e1fbb1",
       "version_major": 2,
       "version_minor": 0
      },
      "text/plain": [
       "Validation:   0%|          | 0/179 [00:00<?, ?it/s]"
      ]
     },
     "metadata": {},
     "output_type": "display_data"
    },
    {
     "name": "stdout",
     "output_type": "stream",
     "text": [
      "[Epoch 8] Train: loss 0.0178 | AUC 0.9411 | Macro-F1 0.3205 | Micro-F1 0.4118 | L-Acc 0.9913   ||   Val: loss 0.0187 | AUC 0.9191 | Macro-F1 0.2930 | Micro-F1 0.4017 | L-Acc 0.9910\n",
      "New best AUC: 0.9191 at epoch 8\n",
      "\n",
      "Epoch 9/10\n"
     ]
    },
    {
     "data": {
      "application/vnd.jupyter.widget-view+json": {
       "model_id": "f06c0dd538534d42947f3cb04fec8e4b",
       "version_major": 2,
       "version_minor": 0
      },
      "text/plain": [
       "Training:   0%|          | 0/714 [00:00<?, ?it/s]"
      ]
     },
     "metadata": {},
     "output_type": "display_data"
    },
    {
     "data": {
      "application/vnd.jupyter.widget-view+json": {
       "model_id": "ba73ebaf5f054d919f8737c32ce084f0",
       "version_major": 2,
       "version_minor": 0
      },
      "text/plain": [
       "Validation:   0%|          | 0/179 [00:00<?, ?it/s]"
      ]
     },
     "metadata": {},
     "output_type": "display_data"
    },
    {
     "name": "stdout",
     "output_type": "stream",
     "text": [
      "[Epoch 9] Train: loss 0.0167 | AUC 0.9507 | Macro-F1 0.3557 | Micro-F1 0.4358 | L-Acc 0.9917   ||   Val: loss 0.0181 | AUC 0.9250 | Macro-F1 0.3189 | Micro-F1 0.4293 | L-Acc 0.9919\n",
      "New best AUC: 0.9250 at epoch 9\n",
      "\n",
      "Epoch 10/10\n"
     ]
    },
    {
     "data": {
      "application/vnd.jupyter.widget-view+json": {
       "model_id": "1cdbdadf20f546a18a41a07c3aa6f937",
       "version_major": 2,
       "version_minor": 0
      },
      "text/plain": [
       "Training:   0%|          | 0/714 [00:00<?, ?it/s]"
      ]
     },
     "metadata": {},
     "output_type": "display_data"
    },
    {
     "data": {
      "application/vnd.jupyter.widget-view+json": {
       "model_id": "bb62ef565e944e6f9ebfe79ee01b69b4",
       "version_major": 2,
       "version_minor": 0
      },
      "text/plain": [
       "Validation:   0%|          | 0/179 [00:00<?, ?it/s]"
      ]
     },
     "metadata": {},
     "output_type": "display_data"
    },
    {
     "name": "stdout",
     "output_type": "stream",
     "text": [
      "[Epoch 10] Train: loss 0.0161 | AUC 0.9550 | Macro-F1 0.3886 | Micro-F1 0.4510 | L-Acc 0.9919   ||   Val: loss 0.0178 | AUC 0.9269 | Macro-F1 0.3149 | Micro-F1 0.4190 | L-Acc 0.9912\n",
      "New best AUC: 0.9269 at epoch 10\n",
      "Saved per-epoch metrics → metrics_fold4.csv\n",
      "\n",
      "Best AUC for fold 4: 0.9269 at epoch 10\n",
      "\n",
      "============================================================\n",
      "Cross-Validation Results:\n",
      "Fold 0: 0.9229\n",
      "Fold 1: 0.9244\n",
      "Fold 2: 0.9270\n",
      "Fold 3: 0.9254\n",
      "Fold 4: 0.9269\n",
      "Mean AUC: 0.9253\n",
      "============================================================\n",
      "\n",
      "Training complete!\n"
     ]
    }
   ],
   "source": [
    "if __name__ == \"__main__\":\n",
    "\n",
    "    print(\"\\nLoading training data...\")\n",
    "    train_df = pd.read_csv(cfg.train_csv)\n",
    "    taxonomy_df = pd.read_csv(cfg.taxonomy_csv)\n",
    "\n",
    "    print(\"\\nStarting training...\")\n",
    "    print(f\"LOAD_DATA is set to {cfg.LOAD_DATA}\")\n",
    "    if cfg.LOAD_DATA:\n",
    "        print(\"Using pre-computed mel spectrograms from NPY file\")\n",
    "    else:\n",
    "        print(\"Will generate spectrograms on-the-fly during training\")\n",
    "    \n",
    "    run_training(train_df, cfg)\n",
    "    \n",
    "    print(\"\\nTraining complete!\")"
   ]
  },
  {
   "cell_type": "code",
   "execution_count": null,
   "id": "9cbbb595",
   "metadata": {},
   "outputs": [],
   "source": []
  }
 ],
 "metadata": {
  "kernelspec": {
   "display_name": "Python 3",
   "language": "python",
   "name": "python3"
  },
  "language_info": {
   "codemirror_mode": {
    "name": "ipython",
    "version": 3
   },
   "file_extension": ".py",
   "mimetype": "text/x-python",
   "name": "python",
   "nbconvert_exporter": "python",
   "pygments_lexer": "ipython3",
   "version": "3.10.16"
  }
 },
 "nbformat": 4,
 "nbformat_minor": 5
}
